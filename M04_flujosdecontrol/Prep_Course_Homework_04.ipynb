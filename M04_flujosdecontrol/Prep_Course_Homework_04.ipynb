{
 "cells": [
  {
   "attachments": {},
   "cell_type": "markdown",
   "metadata": {},
   "source": [
    "## Flujos de Control"
   ]
  },
  {
   "attachments": {},
   "cell_type": "markdown",
   "metadata": {},
   "source": [
    "1) Crear una variable que contenga un elemento del conjunto de números enteros y luego imprimir por pantalla si es mayor o menor a cero"
   ]
  },
  {
   "cell_type": "code",
   "execution_count": 4,
   "metadata": {},
   "outputs": [
    {
     "name": "stdout",
     "output_type": "stream",
     "text": [
      "El numero es igual a cero\n"
     ]
    }
   ],
   "source": [
    "num = 0\n",
    "if num > 0:\n",
    "    print('El numero ', num , ' es mayor que 0')\n",
    "elif num<0:\n",
    "    print('El numero ', num , ' es menor que 0')\n",
    "else:\n",
    "    print('El numero es igual a cero')\n"
   ]
  },
  {
   "attachments": {},
   "cell_type": "markdown",
   "metadata": {},
   "source": [
    "2) Crear dos variables y un condicional que informe si son del mismo tipo de dato"
   ]
  },
  {
   "cell_type": "code",
   "execution_count": 7,
   "metadata": {},
   "outputs": [
    {
     "name": "stdout",
     "output_type": "stream",
     "text": [
      "Las variables son del mismo tipo <class 'float'>\n"
     ]
    }
   ],
   "source": [
    "var1 = 5\n",
    "var2 = 3.8\n",
    "if type(var1)==type(var2):\n",
    "    print('Las variables son del mismo tipo', type(var1))\n",
    "else:\n",
    "    print('las variables son de distinto tipo')"
   ]
  },
  {
   "attachments": {},
   "cell_type": "markdown",
   "metadata": {},
   "source": [
    "3) Para los valores enteros del 1 al 20, imprimir por pantalla si es par o impar"
   ]
  },
  {
   "cell_type": "code",
   "execution_count": 8,
   "metadata": {},
   "outputs": [
    {
     "name": "stdout",
     "output_type": "stream",
     "text": [
      "El numero  1  es impar\n",
      "El numero  2  es par\n",
      "El numero  3  es impar\n",
      "El numero  4  es par\n",
      "El numero  5  es impar\n",
      "El numero  6  es par\n",
      "El numero  7  es impar\n",
      "El numero  8  es par\n",
      "El numero  9  es impar\n",
      "El numero  10  es par\n",
      "El numero  11  es impar\n",
      "El numero  12  es par\n",
      "El numero  13  es impar\n",
      "El numero  14  es par\n",
      "El numero  15  es impar\n",
      "El numero  16  es par\n",
      "El numero  17  es impar\n",
      "El numero  18  es par\n",
      "El numero  19  es impar\n",
      "El numero  20  es par\n"
     ]
    }
   ],
   "source": [
    "for num in range(1,21):\n",
    "    if (num%2)==0:\n",
    "        print('El numero ', num , ' es par')\n",
    "    else:    \n",
    "        print('El numero ', num , ' es impar')"
   ]
  },
  {
   "attachments": {},
   "cell_type": "markdown",
   "metadata": {},
   "source": [
    "4) En un ciclo for mostrar para los valores entre 0 y 5 el resultado de elevarlo a la potencia igual a 3"
   ]
  },
  {
   "cell_type": "code",
   "execution_count": 10,
   "metadata": {},
   "outputs": [
    {
     "name": "stdout",
     "output_type": "stream",
     "text": [
      "0 elevado a la potencia 3 es =  0\n",
      "1\n",
      "2\n",
      "3\n",
      "4\n",
      "5 elevado a la potencia 3 es =  125\n",
      "6\n"
     ]
    }
   ],
   "source": [
    "numeros = [0, 1, 2, 3, 4, 5, 6]\n",
    "for num in numeros:\n",
    "    if num == 0 or num ==5:\n",
    "        print(num, 'elevado a la potencia 3 es = ',num**3)\n",
    "    else:\n",
    "        print(num)"
   ]
  },
  {
   "attachments": {},
   "cell_type": "markdown",
   "metadata": {},
   "source": [
    "5) Crear una variable que contenga un número entero y realizar un ciclo for la misma cantidad de ciclos"
   ]
  },
  {
   "cell_type": "code",
   "execution_count": 14,
   "metadata": {},
   "outputs": [
    {
     "name": "stdout",
     "output_type": "stream",
     "text": [
      "0\n",
      "1\n",
      "2\n",
      "3\n",
      "4\n",
      "5\n",
      "6\n",
      "7\n"
     ]
    }
   ],
   "source": [
    "ciclo = 8\n",
    "for num in range(0,ciclo):\n",
    "    print(num)"
   ]
  },
  {
   "attachments": {},
   "cell_type": "markdown",
   "metadata": {},
   "source": [
    "6) Utilizar un ciclo while para realizar el factorial de un número guardado en una variable, sólo si la variable contiene un número entero mayor a 0"
   ]
  },
  {
   "cell_type": "code",
   "execution_count": 56,
   "metadata": {},
   "outputs": [
    {
     "name": "stdout",
     "output_type": "stream",
     "text": [
      "<class 'float'>\n",
      "El valor ingresado NO ES ENTERO - no cumple las condiciones\n"
     ]
    }
   ],
   "source": [
    "num = 8.3\n",
    "\n",
    "print(type(num))\n",
    "resultado =1\n",
    "if type(num)== int:\n",
    "    if num >> 0:\n",
    "        while num>1:\n",
    "            print(num)\n",
    "            resultado *=num\n",
    "            num-=1\n",
    "        print(resultado)\n",
    "    else:\n",
    "        print('El valor ingresado es CERO - no cumple las condiciones') \n",
    "else:\n",
    "    print('El valor ingresado NO ES ENTERO - no cumple las condiciones') "
   ]
  },
  {
   "attachments": {},
   "cell_type": "markdown",
   "metadata": {},
   "source": [
    "7) Crear un ciclo for dentro de un ciclo while"
   ]
  },
  {
   "cell_type": "code",
   "execution_count": 46,
   "metadata": {},
   "outputs": [
    {
     "name": "stdout",
     "output_type": "stream",
     "text": [
      "Ciclo while 3\n",
      "paso  0\n",
      "paso  1\n",
      "paso  2\n",
      "Ciclo while 2\n",
      "paso  0\n",
      "paso  1\n",
      "paso  2\n",
      "Ciclo while 1\n",
      "paso  0\n",
      "paso  1\n",
      "paso  2\n"
     ]
    }
   ],
   "source": [
    "num =3\n",
    "num1 = num\n",
    "while num>0:\n",
    "    print('Ciclo while', num)\n",
    "    for paso in range(0,num1):\n",
    "        print('paso ', paso)\n",
    "    \n",
    "    num-=1"
   ]
  },
  {
   "attachments": {},
   "cell_type": "markdown",
   "metadata": {},
   "source": [
    "8) Crear un ciclo while dentro de un ciclo for"
   ]
  },
  {
   "cell_type": "code",
   "execution_count": 48,
   "metadata": {},
   "outputs": [
    {
     "name": "stdout",
     "output_type": "stream",
     "text": [
      "while en paso 4\n",
      "for en -----  0\n",
      "for en -----  1\n",
      "for en -----  2\n",
      "for en -----  3\n",
      "for en -----  4\n",
      "while en paso 3\n",
      "for en -----  0\n",
      "for en -----  1\n",
      "for en -----  2\n",
      "for en -----  3\n",
      "for en -----  4\n",
      "while en paso 2\n",
      "for en -----  0\n",
      "for en -----  1\n",
      "for en -----  2\n",
      "for en -----  3\n",
      "for en -----  4\n",
      "while en paso 1\n",
      "for en -----  0\n",
      "for en -----  1\n",
      "for en -----  2\n",
      "for en -----  3\n",
      "for en -----  4\n"
     ]
    }
   ],
   "source": [
    "num = 4 \n",
    "num1 = 5\n",
    "while num >0:\n",
    "    print('while en paso', num)\n",
    "    num-=1\n",
    "    for paso in range(0, num1):\n",
    "        print('for en ----- ', paso )\n"
   ]
  },
  {
   "attachments": {},
   "cell_type": "markdown",
   "metadata": {},
   "source": [
    "9) Imprimir los números primos existentes entre 0 y 30"
   ]
  },
  {
   "cell_type": "code",
   "execution_count": 80,
   "metadata": {},
   "outputs": [
    {
     "name": "stdout",
     "output_type": "stream",
     "text": [
      "0\n",
      "1\n",
      "2\n",
      "3\n",
      "5\n",
      "7\n",
      "11\n",
      "13\n",
      "17\n",
      "19\n",
      "23\n",
      "29\n",
      "31\n",
      "37\n",
      "41\n",
      "43\n",
      "47\n",
      "53\n",
      "59\n",
      "61\n",
      "67\n",
      "71\n",
      "73\n",
      "79\n",
      "83\n",
      "89\n",
      "97\n",
      "101\n",
      "103\n",
      "107\n",
      "109\n",
      "113\n",
      "127\n",
      "131\n",
      "137\n",
      "139\n",
      "149\n",
      "151\n",
      "157\n",
      "163\n",
      "167\n",
      "173\n",
      "179\n",
      "181\n",
      "191\n",
      "193\n",
      "197\n",
      "199\n",
      "211\n",
      "223\n",
      "227\n",
      "229\n",
      "233\n",
      "239\n",
      "241\n",
      "251\n",
      "257\n",
      "263\n",
      "269\n",
      "271\n",
      "277\n",
      "281\n",
      "283\n",
      "293\n",
      "307\n",
      "311\n",
      "313\n",
      "317\n",
      "331\n",
      "337\n",
      "347\n",
      "349\n",
      "353\n",
      "359\n",
      "367\n",
      "373\n",
      "379\n",
      "383\n",
      "389\n",
      "397\n",
      "401\n",
      "409\n",
      "419\n",
      "421\n",
      "431\n",
      "433\n",
      "439\n",
      "443\n",
      "449\n",
      "457\n",
      "461\n",
      "463\n",
      "467\n",
      "479\n",
      "487\n",
      "491\n",
      "499\n",
      "503\n",
      "509\n",
      "521\n",
      "523\n",
      "541\n",
      "547\n",
      "557\n",
      "563\n",
      "569\n",
      "571\n",
      "577\n",
      "587\n",
      "593\n",
      "599\n",
      "601\n",
      "607\n",
      "613\n",
      "617\n",
      "619\n",
      "631\n",
      "641\n",
      "643\n",
      "647\n",
      "653\n",
      "659\n",
      "661\n",
      "673\n",
      "677\n",
      "683\n",
      "691\n",
      "701\n",
      "709\n",
      "719\n",
      "727\n",
      "733\n",
      "739\n",
      "743\n",
      "751\n",
      "757\n",
      "761\n",
      "769\n",
      "773\n",
      "787\n",
      "797\n",
      "809\n",
      "811\n",
      "821\n",
      "823\n",
      "827\n",
      "829\n",
      "839\n",
      "853\n",
      "857\n",
      "859\n",
      "863\n",
      "877\n",
      "881\n",
      "883\n",
      "887\n",
      "907\n",
      "911\n",
      "919\n",
      "929\n",
      "937\n",
      "941\n",
      "947\n",
      "953\n",
      "967\n",
      "971\n",
      "977\n",
      "983\n",
      "991\n",
      "997\n",
      "total de ciclos 497503\n"
     ]
    }
   ],
   "source": [
    "tope=1000\n",
    "n = 0\n",
    "ciclo_sin=0\n",
    "primo = True\n",
    "while (n < tope):\n",
    "   \n",
    "    for div in range(2, n):\n",
    "        ciclo_sin +=1\n",
    "        if (n % div == 0):\n",
    "            primo = False\n",
    "    if (primo):\n",
    "        print(n)\n",
    "    else:\n",
    "        primo = True\n",
    "    n += 1\n",
    "print(f'total de ciclos {ciclo_sin}')    "
   ]
  },
  {
   "attachments": {},
   "cell_type": "markdown",
   "metadata": {},
   "source": [
    "10) ¿Se puede mejorar el proceso del punto 9? Utilizar las sentencias break y/ó continue para tal fin"
   ]
  },
  {
   "cell_type": "code",
   "execution_count": 81,
   "metadata": {},
   "outputs": [
    {
     "name": "stdout",
     "output_type": "stream",
     "text": [
      " el numero 0 es primo\n",
      " el numero 1 es primo\n",
      " el numero 2 es primo\n",
      " el numero 3 es primo\n",
      " el numero 5 es primo\n",
      " el numero 7 es primo\n",
      " el numero 11 es primo\n",
      " el numero 13 es primo\n",
      " el numero 17 es primo\n",
      " el numero 19 es primo\n",
      " el numero 23 es primo\n",
      " el numero 29 es primo\n",
      " el numero 31 es primo\n",
      " el numero 37 es primo\n",
      " el numero 41 es primo\n",
      " el numero 43 es primo\n",
      " el numero 47 es primo\n",
      " el numero 53 es primo\n",
      " el numero 59 es primo\n",
      " el numero 61 es primo\n",
      " el numero 67 es primo\n",
      " el numero 71 es primo\n",
      " el numero 73 es primo\n",
      " el numero 79 es primo\n",
      " el numero 83 es primo\n",
      " el numero 89 es primo\n",
      " el numero 97 es primo\n",
      " el numero 101 es primo\n",
      " el numero 103 es primo\n",
      " el numero 107 es primo\n",
      " el numero 109 es primo\n",
      " el numero 113 es primo\n",
      " el numero 127 es primo\n",
      " el numero 131 es primo\n",
      " el numero 137 es primo\n",
      " el numero 139 es primo\n",
      " el numero 149 es primo\n",
      " el numero 151 es primo\n",
      " el numero 157 es primo\n",
      " el numero 163 es primo\n",
      " el numero 167 es primo\n",
      " el numero 173 es primo\n",
      " el numero 179 es primo\n",
      " el numero 181 es primo\n",
      " el numero 191 es primo\n",
      " el numero 193 es primo\n",
      " el numero 197 es primo\n",
      " el numero 199 es primo\n",
      " el numero 211 es primo\n",
      " el numero 223 es primo\n",
      " el numero 227 es primo\n",
      " el numero 229 es primo\n",
      " el numero 233 es primo\n",
      " el numero 239 es primo\n",
      " el numero 241 es primo\n",
      " el numero 251 es primo\n",
      " el numero 257 es primo\n",
      " el numero 263 es primo\n",
      " el numero 269 es primo\n",
      " el numero 271 es primo\n",
      " el numero 277 es primo\n",
      " el numero 281 es primo\n",
      " el numero 283 es primo\n",
      " el numero 293 es primo\n",
      " el numero 307 es primo\n",
      " el numero 311 es primo\n",
      " el numero 313 es primo\n",
      " el numero 317 es primo\n",
      " el numero 331 es primo\n",
      " el numero 337 es primo\n",
      " el numero 347 es primo\n",
      " el numero 349 es primo\n",
      " el numero 353 es primo\n",
      " el numero 359 es primo\n",
      " el numero 367 es primo\n",
      " el numero 373 es primo\n",
      " el numero 379 es primo\n",
      " el numero 383 es primo\n",
      " el numero 389 es primo\n",
      " el numero 397 es primo\n",
      " el numero 401 es primo\n",
      " el numero 409 es primo\n",
      " el numero 419 es primo\n",
      " el numero 421 es primo\n",
      " el numero 431 es primo\n",
      " el numero 433 es primo\n",
      " el numero 439 es primo\n",
      " el numero 443 es primo\n",
      " el numero 449 es primo\n",
      " el numero 457 es primo\n",
      " el numero 461 es primo\n",
      " el numero 463 es primo\n",
      " el numero 467 es primo\n",
      " el numero 479 es primo\n",
      " el numero 487 es primo\n",
      " el numero 491 es primo\n",
      " el numero 499 es primo\n",
      " el numero 503 es primo\n",
      " el numero 509 es primo\n",
      " el numero 521 es primo\n",
      " el numero 523 es primo\n",
      " el numero 541 es primo\n",
      " el numero 547 es primo\n",
      " el numero 557 es primo\n",
      " el numero 563 es primo\n",
      " el numero 569 es primo\n",
      " el numero 571 es primo\n",
      " el numero 577 es primo\n",
      " el numero 587 es primo\n",
      " el numero 593 es primo\n",
      " el numero 599 es primo\n",
      " el numero 601 es primo\n",
      " el numero 607 es primo\n",
      " el numero 613 es primo\n",
      " el numero 617 es primo\n",
      " el numero 619 es primo\n",
      " el numero 631 es primo\n",
      " el numero 641 es primo\n",
      " el numero 643 es primo\n",
      " el numero 647 es primo\n",
      " el numero 653 es primo\n",
      " el numero 659 es primo\n",
      " el numero 661 es primo\n",
      " el numero 673 es primo\n",
      " el numero 677 es primo\n",
      " el numero 683 es primo\n",
      " el numero 691 es primo\n",
      " el numero 701 es primo\n",
      " el numero 709 es primo\n",
      " el numero 719 es primo\n",
      " el numero 727 es primo\n",
      " el numero 733 es primo\n",
      " el numero 739 es primo\n",
      " el numero 743 es primo\n",
      " el numero 751 es primo\n",
      " el numero 757 es primo\n",
      " el numero 761 es primo\n",
      " el numero 769 es primo\n",
      " el numero 773 es primo\n",
      " el numero 787 es primo\n",
      " el numero 797 es primo\n",
      " el numero 809 es primo\n",
      " el numero 811 es primo\n",
      " el numero 821 es primo\n",
      " el numero 823 es primo\n",
      " el numero 827 es primo\n",
      " el numero 829 es primo\n",
      " el numero 839 es primo\n",
      " el numero 853 es primo\n",
      " el numero 857 es primo\n",
      " el numero 859 es primo\n",
      " el numero 863 es primo\n",
      " el numero 877 es primo\n",
      " el numero 881 es primo\n",
      " el numero 883 es primo\n",
      " el numero 887 es primo\n",
      " el numero 907 es primo\n",
      " el numero 911 es primo\n",
      " el numero 919 es primo\n",
      " el numero 929 es primo\n",
      " el numero 937 es primo\n",
      " el numero 941 es primo\n",
      " el numero 947 es primo\n",
      " el numero 953 es primo\n",
      " el numero 967 es primo\n",
      " el numero 971 es primo\n",
      " el numero 977 es primo\n",
      " el numero 983 es primo\n",
      " el numero 991 es primo\n",
      " el numero 997 es primo\n",
      "se hicieron 78021 ireracciones\n"
     ]
    }
   ],
   "source": [
    "tope = 1000\n",
    "num =0\n",
    "primo = True\n",
    "ciclo_con = 0\n",
    "\n",
    "while num < tope:\n",
    "    for n in range(2,num):\n",
    "        ciclo_con+=1\n",
    "        if num % n == 0:\n",
    "            primo= False\n",
    "            break\n",
    "    if primo:    \n",
    "        print(f' el numero {num} es primo') \n",
    "    else:\n",
    "        primo= True\n",
    "    num+=1\n",
    "print(f'se hicieron {ciclo_con} ireracciones')"
   ]
  },
  {
   "attachments": {},
   "cell_type": "markdown",
   "metadata": {},
   "source": [
    "11) En los puntos 9 y 10, se diseño un código que encuentra números primos y además se lo optimizó. ¿Es posible saber en qué medida se optimizó?"
   ]
  },
  {
   "cell_type": "code",
   "execution_count": 82,
   "metadata": {},
   "outputs": [
    {
     "name": "stdout",
     "output_type": "stream",
     "text": [
      " se mejoro en un 84.32 %\n"
     ]
    }
   ],
   "source": [
    "mejora = ciclo_con * 100 / ciclo_sin\n",
    "mejora = round(100 - mejora,2)\n",
    "print(f' se mejoro en un {mejora} %')"
   ]
  },
  {
   "attachments": {},
   "cell_type": "markdown",
   "metadata": {},
   "source": [
    "12) Si la cantidad de números que se evalúa es mayor a treinta, esa optimización crece?"
   ]
  },
  {
   "attachments": {},
   "cell_type": "markdown",
   "metadata": {},
   "source": [
    "la optimizacion crece a medida que el valor de tope es mas grande"
   ]
  },
  {
   "attachments": {},
   "cell_type": "markdown",
   "metadata": {},
   "source": [
    "13) Aplicando continue, armar un ciclo while que solo imprima los valores divisibles por 12, dentro del rango de números de 100 a 300"
   ]
  },
  {
   "cell_type": "code",
   "execution_count": 88,
   "metadata": {},
   "outputs": [
    {
     "name": "stdout",
     "output_type": "stream",
     "text": [
      "el numero 108 es divisible por 12\n",
      "el numero 120 es divisible por 12\n",
      "el numero 132 es divisible por 12\n",
      "el numero 144 es divisible por 12\n",
      "el numero 156 es divisible por 12\n",
      "el numero 168 es divisible por 12\n",
      "el numero 180 es divisible por 12\n",
      "el numero 192 es divisible por 12\n",
      "el numero 204 es divisible por 12\n",
      "el numero 216 es divisible por 12\n",
      "el numero 228 es divisible por 12\n",
      "el numero 240 es divisible por 12\n",
      "el numero 252 es divisible por 12\n",
      "el numero 264 es divisible por 12\n",
      "el numero 276 es divisible por 12\n",
      "el numero 288 es divisible por 12\n",
      "el numero 300 es divisible por 12\n",
      "Se hicieron 201 ciclos\n"
     ]
    }
   ],
   "source": [
    "maximo = 300\n",
    "minimo = 99\n",
    "x = 0\n",
    "while minimo < maximo:\n",
    "    minimo+=1\n",
    "    x+=1\n",
    "    if minimo%12 ==0:\n",
    "        print(f'el numero {minimo} es divisible por 12')\n",
    "       \n",
    "print(f'Se hicieron {x} ciclos')"
   ]
  },
  {
   "attachments": {},
   "cell_type": "markdown",
   "metadata": {},
   "source": [
    "14) Utilizar la función **input()** que permite hacer ingresos por teclado, para encontrar números primos y dar la opción al usario de buscar el siguiente"
   ]
  },
  {
   "cell_type": "code",
   "execution_count": 91,
   "metadata": {},
   "outputs": [
    {
     "name": "stdout",
     "output_type": "stream",
     "text": [
      " el numero 0 es primo\n",
      " el numero 1 es primo\n",
      " el numero 2 es primo\n",
      " el numero 3 es primo\n",
      " el numero 5 es primo\n",
      " el numero 7 es primo\n",
      " el numero 11 es primo\n",
      " el numero 13 es primo\n",
      "Fin a la busqueda\n",
      "se hicieron 36 ireracciones\n"
     ]
    }
   ],
   "source": [
    "tope = int(input('ingrese un valor de tope para ver los numeros primos'))\n",
    "num =0\n",
    "primo = True\n",
    "ciclo_con = 0\n",
    "opcion = 'si'\n",
    "while num < tope and opcion != 'no':\n",
    "    for n in range(2,num):\n",
    "        ciclo_con+=1\n",
    "        if num % n == 0:\n",
    "            primo= False\n",
    "            break\n",
    "    if primo:    \n",
    "        print(f' el numero {num} es primo') \n",
    "        opcion = input(\"Desea seguir mostrando el sig primo de {tope} - 'si' / 'no'\")\n",
    "        if opcion== 'no':\n",
    "            print('Fin a la busqueda')\n",
    "    \n",
    "    else:\n",
    "        primo= True\n",
    "    num+=1\n",
    "print(f'se hicieron {ciclo_con} ireracciones')\n",
    "\n",
    "\n",
    "\n",
    "#a= int(input('Ingrese un valor mayor a cero'))\n",
    "\n",
    "#print(a)\n",
    "#print(type(a))"
   ]
  },
  {
   "attachments": {},
   "cell_type": "markdown",
   "metadata": {},
   "source": [
    "15) Crear un ciclo while que encuentre dentro del rango de 100 a 300 el primer número divisible por 3 y además múltiplo de 6"
   ]
  },
  {
   "cell_type": "code",
   "execution_count": 93,
   "metadata": {},
   "outputs": [
    {
     "name": "stdout",
     "output_type": "stream",
     "text": [
      "el  primer numero divisible por 6 y multiplo de 3 es 102\n",
      "Se hicieron 3 ciclos\n"
     ]
    }
   ],
   "source": [
    "maximo = 300\n",
    "minimo = 99\n",
    "x = 0\n",
    "while minimo < maximo:\n",
    "    minimo+=1\n",
    "    x+=1\n",
    "    if minimo%6 ==0:\n",
    "        print(f'el  primer numero divisible por 6 y multiplo de 3 es {minimo}')\n",
    "        break\n",
    "       \n",
    "print(f'Se hicieron {x} ciclos')"
   ]
  }
 ],
 "metadata": {
  "interpreter": {
   "hash": "c85384e4cb51c8b72350f3a8712cc8351fdc3955e32a27f9b60c6242ab125f01"
  },
  "kernelspec": {
   "display_name": "Python 3 (ipykernel)",
   "language": "python",
   "name": "python3"
  },
  "language_info": {
   "codemirror_mode": {
    "name": "ipython",
    "version": 3
   },
   "file_extension": ".py",
   "mimetype": "text/x-python",
   "name": "python",
   "nbconvert_exporter": "python",
   "pygments_lexer": "ipython3",
   "version": "3.11.3"
  }
 },
 "nbformat": 4,
 "nbformat_minor": 4
}
