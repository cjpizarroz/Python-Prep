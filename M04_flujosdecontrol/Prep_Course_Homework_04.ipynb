{
 "cells": [
  {
   "attachments": {},
   "cell_type": "markdown",
   "metadata": {},
   "source": [
    "## Flujos de Control"
   ]
  },
  {
   "attachments": {},
   "cell_type": "markdown",
   "metadata": {},
   "source": [
    "1) Crear una variable que contenga un elemento del conjunto de números enteros y luego imprimir por pantalla si es mayor o menor a cero"
   ]
  },
  {
   "cell_type": "code",
   "execution_count": 4,
   "metadata": {},
   "outputs": [
    {
     "name": "stdout",
     "output_type": "stream",
     "text": [
      "El numero es igual a cero\n"
     ]
    }
   ],
   "source": [
    "num = 0\n",
    "if num > 0:\n",
    "    print('El numero ', num , ' es mayor que 0')\n",
    "elif num<0:\n",
    "    print('El numero ', num , ' es menor que 0')\n",
    "else:\n",
    "    print('El numero es igual a cero')\n"
   ]
  },
  {
   "attachments": {},
   "cell_type": "markdown",
   "metadata": {},
   "source": [
    "2) Crear dos variables y un condicional que informe si son del mismo tipo de dato"
   ]
  },
  {
   "cell_type": "code",
   "execution_count": 7,
   "metadata": {},
   "outputs": [
    {
     "name": "stdout",
     "output_type": "stream",
     "text": [
      "Las variables son del mismo tipo <class 'float'>\n"
     ]
    }
   ],
   "source": [
    "var1 = 5\n",
    "var2 = 3.8\n",
    "if type(var1)==type(var2):\n",
    "    print('Las variables son del mismo tipo', type(var1))\n",
    "else:\n",
    "    print('las variables son de distinto tipo')"
   ]
  },
  {
   "attachments": {},
   "cell_type": "markdown",
   "metadata": {},
   "source": [
    "3) Para los valores enteros del 1 al 20, imprimir por pantalla si es par o impar"
   ]
  },
  {
   "cell_type": "code",
   "execution_count": 8,
   "metadata": {},
   "outputs": [
    {
     "name": "stdout",
     "output_type": "stream",
     "text": [
      "El numero  1  es impar\n",
      "El numero  2  es par\n",
      "El numero  3  es impar\n",
      "El numero  4  es par\n",
      "El numero  5  es impar\n",
      "El numero  6  es par\n",
      "El numero  7  es impar\n",
      "El numero  8  es par\n",
      "El numero  9  es impar\n",
      "El numero  10  es par\n",
      "El numero  11  es impar\n",
      "El numero  12  es par\n",
      "El numero  13  es impar\n",
      "El numero  14  es par\n",
      "El numero  15  es impar\n",
      "El numero  16  es par\n",
      "El numero  17  es impar\n",
      "El numero  18  es par\n",
      "El numero  19  es impar\n",
      "El numero  20  es par\n"
     ]
    }
   ],
   "source": [
    "for num in range(1,21):\n",
    "    if (num%2)==0:\n",
    "        print('El numero ', num , ' es par')\n",
    "    else:    \n",
    "        print('El numero ', num , ' es impar')"
   ]
  },
  {
   "attachments": {},
   "cell_type": "markdown",
   "metadata": {},
   "source": [
    "4) En un ciclo for mostrar para los valores entre 0 y 5 el resultado de elevarlo a la potencia igual a 3"
   ]
  },
  {
   "cell_type": "code",
   "execution_count": 10,
   "metadata": {},
   "outputs": [
    {
     "name": "stdout",
     "output_type": "stream",
     "text": [
      "0 elevado a la potencia 3 es =  0\n",
      "1\n",
      "2\n",
      "3\n",
      "4\n",
      "5 elevado a la potencia 3 es =  125\n",
      "6\n"
     ]
    }
   ],
   "source": [
    "numeros = [0, 1, 2, 3, 4, 5, 6]\n",
    "for num in numeros:\n",
    "    if num == 0 or num ==5:\n",
    "        print(num, 'elevado a la potencia 3 es = ',num**3)\n",
    "    else:\n",
    "        print(num)"
   ]
  },
  {
   "attachments": {},
   "cell_type": "markdown",
   "metadata": {},
   "source": [
    "5) Crear una variable que contenga un número entero y realizar un ciclo for la misma cantidad de ciclos"
   ]
  },
  {
   "cell_type": "code",
   "execution_count": 14,
   "metadata": {},
   "outputs": [
    {
     "name": "stdout",
     "output_type": "stream",
     "text": [
      "0\n",
      "1\n",
      "2\n",
      "3\n",
      "4\n",
      "5\n",
      "6\n",
      "7\n"
     ]
    }
   ],
   "source": [
    "ciclo = 8\n",
    "for num in range(0,ciclo):\n",
    "    print(num)"
   ]
  },
  {
   "attachments": {},
   "cell_type": "markdown",
   "metadata": {},
   "source": [
    "6) Utilizar un ciclo while para realizar el factorial de un número guardado en una variable, sólo si la variable contiene un número entero mayor a 0"
   ]
  },
  {
   "cell_type": "code",
   "execution_count": 56,
   "metadata": {},
   "outputs": [
    {
     "name": "stdout",
     "output_type": "stream",
     "text": [
      "<class 'float'>\n",
      "El valor ingresado NO ES ENTERO - no cumple las condiciones\n"
     ]
    }
   ],
   "source": [
    "num = 8.3\n",
    "\n",
    "print(type(num))\n",
    "resultado =1\n",
    "if type(num)== int:\n",
    "    if num >> 0:\n",
    "        while num>1:\n",
    "            print(num)\n",
    "            resultado *=num\n",
    "            num-=1\n",
    "        print(resultado)\n",
    "    else:\n",
    "        print('El valor ingresado es CERO - no cumple las condiciones') \n",
    "else:\n",
    "    print('El valor ingresado NO ES ENTERO - no cumple las condiciones') "
   ]
  },
  {
   "attachments": {},
   "cell_type": "markdown",
   "metadata": {},
   "source": [
    "7) Crear un ciclo for dentro de un ciclo while"
   ]
  },
  {
   "cell_type": "code",
   "execution_count": 46,
   "metadata": {},
   "outputs": [
    {
     "name": "stdout",
     "output_type": "stream",
     "text": [
      "Ciclo while 3\n",
      "paso  0\n",
      "paso  1\n",
      "paso  2\n",
      "Ciclo while 2\n",
      "paso  0\n",
      "paso  1\n",
      "paso  2\n",
      "Ciclo while 1\n",
      "paso  0\n",
      "paso  1\n",
      "paso  2\n"
     ]
    }
   ],
   "source": [
    "num =3\n",
    "num1 = num\n",
    "while num>0:\n",
    "    print('Ciclo while', num)\n",
    "    for paso in range(0,num1):\n",
    "        print('paso ', paso)\n",
    "    \n",
    "    num-=1"
   ]
  },
  {
   "attachments": {},
   "cell_type": "markdown",
   "metadata": {},
   "source": [
    "8) Crear un ciclo while dentro de un ciclo for"
   ]
  },
  {
   "cell_type": "code",
   "execution_count": 48,
   "metadata": {},
   "outputs": [
    {
     "name": "stdout",
     "output_type": "stream",
     "text": [
      "while en paso 4\n",
      "for en -----  0\n",
      "for en -----  1\n",
      "for en -----  2\n",
      "for en -----  3\n",
      "for en -----  4\n",
      "while en paso 3\n",
      "for en -----  0\n",
      "for en -----  1\n",
      "for en -----  2\n",
      "for en -----  3\n",
      "for en -----  4\n",
      "while en paso 2\n",
      "for en -----  0\n",
      "for en -----  1\n",
      "for en -----  2\n",
      "for en -----  3\n",
      "for en -----  4\n",
      "while en paso 1\n",
      "for en -----  0\n",
      "for en -----  1\n",
      "for en -----  2\n",
      "for en -----  3\n",
      "for en -----  4\n"
     ]
    }
   ],
   "source": [
    "num = 4 \n",
    "num1 = 5\n",
    "while num >0:\n",
    "    print('while en paso', num)\n",
    "    num-=1\n",
    "    for paso in range(0, num1):\n",
    "        print('for en ----- ', paso )\n"
   ]
  },
  {
   "attachments": {},
   "cell_type": "markdown",
   "metadata": {},
   "source": [
    "9) Imprimir los números primos existentes entre 0 y 30"
   ]
  },
  {
   "cell_type": "code",
   "execution_count": 55,
   "metadata": {},
   "outputs": [
    {
     "name": "stdout",
     "output_type": "stream",
     "text": [
      "- 2\n",
      "- 3\n",
      "- 5\n",
      "- 7\n",
      "- 11\n",
      "- 13\n",
      "- 17\n",
      "- 19\n",
      "- 23\n",
      "- 29\n"
     ]
    }
   ],
   "source": [
    "num = 30\n",
    "\n",
    "for paso in range(2,num):\n",
    "    cont =0\n",
    "    paso1 = paso\n",
    "    while paso1>0:\n",
    "        if paso%paso1==0:\n",
    "            cont+=1\n",
    "        paso1-=1\n",
    "    if cont==2:    \n",
    "        print('-',paso)     "
   ]
  },
  {
   "attachments": {},
   "cell_type": "markdown",
   "metadata": {},
   "source": [
    "10) ¿Se puede mejorar el proceso del punto 9? Utilizar las sentencias break y/ó continue para tal fin"
   ]
  },
  {
   "cell_type": "code",
   "execution_count": null,
   "metadata": {},
   "outputs": [],
   "source": [
    "num = 30\n",
    "while num>0:\n",
    "    cont=0\n",
    "    num1 = num\n",
    "    num2 = num1\n",
    "    while num1>0 and cont<=2:\n",
    "        if num1%num2 ==0\n",
    "            cont+=1\n",
    "        num2-=1\n",
    "    num-=1\n"
   ]
  },
  {
   "attachments": {},
   "cell_type": "markdown",
   "metadata": {},
   "source": [
    "11) En los puntos 9 y 10, se diseño un código que encuentra números primos y además se lo optimizó. ¿Es posible saber en qué medida se optimizó?"
   ]
  },
  {
   "cell_type": "code",
   "execution_count": null,
   "metadata": {},
   "outputs": [],
   "source": []
  },
  {
   "attachments": {},
   "cell_type": "markdown",
   "metadata": {},
   "source": [
    "12) Si la cantidad de números que se evalúa es mayor a treinta, esa optimización crece?"
   ]
  },
  {
   "cell_type": "code",
   "execution_count": null,
   "metadata": {},
   "outputs": [],
   "source": []
  },
  {
   "attachments": {},
   "cell_type": "markdown",
   "metadata": {},
   "source": [
    "13) Aplicando continue, armar un ciclo while que solo imprima los valores divisibles por 12, dentro del rango de números de 100 a 300"
   ]
  },
  {
   "cell_type": "code",
   "execution_count": null,
   "metadata": {},
   "outputs": [],
   "source": []
  },
  {
   "attachments": {},
   "cell_type": "markdown",
   "metadata": {},
   "source": [
    "14) Utilizar la función **input()** que permite hacer ingresos por teclado, para encontrar números primos y dar la opción al usario de buscar el siguiente"
   ]
  },
  {
   "cell_type": "code",
   "execution_count": 60,
   "metadata": {},
   "outputs": [
    {
     "name": "stdout",
     "output_type": "stream",
     "text": [
      "15\n",
      "<class 'int'>\n"
     ]
    }
   ],
   "source": [
    "a= int(input('Ingrese un valor mayor a cero'))\n",
    "\n",
    "print(a)\n",
    "print(type(a))"
   ]
  },
  {
   "attachments": {},
   "cell_type": "markdown",
   "metadata": {},
   "source": [
    "15) Crear un ciclo while que encuentre dentro del rango de 100 a 300 el primer número divisible por 3 y además múltiplo de 6"
   ]
  },
  {
   "cell_type": "code",
   "execution_count": null,
   "metadata": {},
   "outputs": [],
   "source": []
  }
 ],
 "metadata": {
  "interpreter": {
   "hash": "c85384e4cb51c8b72350f3a8712cc8351fdc3955e32a27f9b60c6242ab125f01"
  },
  "kernelspec": {
   "display_name": "Python 3 (ipykernel)",
   "language": "python",
   "name": "python3"
  },
  "language_info": {
   "codemirror_mode": {
    "name": "ipython",
    "version": 3
   },
   "file_extension": ".py",
   "mimetype": "text/x-python",
   "name": "python",
   "nbconvert_exporter": "python",
   "pygments_lexer": "ipython3",
   "version": "3.10.6"
  }
 },
 "nbformat": 4,
 "nbformat_minor": 4
}
