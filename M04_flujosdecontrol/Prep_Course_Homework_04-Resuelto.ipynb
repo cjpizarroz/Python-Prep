{
 "cells": [
  {
   "attachments": {},
   "cell_type": "markdown",
   "metadata": {},
   "source": [
    "## Flujos de Control"
   ]
  },
  {
   "attachments": {},
   "cell_type": "markdown",
   "metadata": {},
   "source": [
    "1) Crear una variable que contenga un elemento del conjunto de números enteros y luego imprimir por pantalla si es mayor o menor a cero"
   ]
  },
  {
   "cell_type": "code",
   "execution_count": 1,
   "metadata": {},
   "outputs": [
    {
     "name": "stdout",
     "output_type": "stream",
     "text": [
      "La variable es mayor a cero\n"
     ]
    }
   ],
   "source": [
    "a = 10\n",
    "if (a < 0):\n",
    "    print('La variable es menor a cero')\n",
    "elif (a > 0): \n",
    "    print('La variable es mayor a cero')\n",
    "else:\n",
    "    print('La variable es igual a cero')"
   ]
  },
  {
   "attachments": {},
   "cell_type": "markdown",
   "metadata": {},
   "source": [
    "2) Crear dos variables y un condicional que informe si son del mismo tipo de dato"
   ]
  },
  {
   "cell_type": "code",
   "execution_count": 5,
   "metadata": {},
   "outputs": [
    {
     "name": "stdout",
     "output_type": "stream",
     "text": [
      "Las variables son de tipos de dato diferentes\n"
     ]
    }
   ],
   "source": [
    "a = 2\n",
    "b = 'hola'\n",
    "if (type(a) == type(b)):\n",
    "    print('Las variables son del mismo tipo de dato')\n",
    "else:\n",
    "    print('Las variables son de tipos de dato diferentes')"
   ]
  },
  {
   "cell_type": "code",
   "execution_count": null,
   "metadata": {},
   "outputs": [],
   "source": [
    "# El formato utilizado a continuación en el print es conocido como f-string o formatted string literals en Python. Las f-strings permiten incrustar expresiones dentro de una cadena de texto mediante llaves {} y el prefijo \"f\" antes de la cadena. Dentro de las llaves, puedes colocar variables, expresiones o incluso invocar funciones para su evaluación e inclusión en la cadena resultante.\n",
    "a = 3.2\n",
    "b = 2\n",
    "print(f'Las variables {a} y {b} son del mismo tipo de dato')"
   ]
  },
  {
   "attachments": {},
   "cell_type": "markdown",
   "metadata": {},
   "source": [
    "3) Para los valores enteros del 1 al 20, imprimir por pantalla si es par o impar"
   ]
  },
  {
   "cell_type": "code",
   "execution_count": 7,
   "metadata": {},
   "outputs": [
    {
     "name": "stdout",
     "output_type": "stream",
     "text": [
      "El número  1  es impar\n",
      "El número  2  es par\n",
      "El número  3  es impar\n",
      "El número  4  es par\n",
      "El número  5  es impar\n",
      "El número  6  es par\n",
      "El número  7  es impar\n",
      "El número  8  es par\n",
      "El número  9  es impar\n",
      "El número  10  es par\n",
      "El número  11  es impar\n",
      "El número  12  es par\n",
      "El número  13  es impar\n",
      "El número  14  es par\n",
      "El número  15  es impar\n",
      "El número  16  es par\n",
      "El número  17  es impar\n",
      "El número  18  es par\n",
      "El número  19  es impar\n",
      "El número  20  es par\n"
     ]
    }
   ],
   "source": [
    "#resuelto con bucle for\n",
    "\n",
    "for i in range(1, 21):\n",
    "    if i % 2 == 0:\n",
    "        print('El número ', str(i), ' es par')\n",
    "    else:\n",
    "        print('El número ', str(i), ' es impar')"
   ]
  },
  {
   "cell_type": "code",
   "execution_count": null,
   "metadata": {},
   "outputs": [],
   "source": [
    "# resuelto con while\n",
    "\n",
    "i = 1\n",
    "while (i <= 20):\n",
    "    if (i % 2 == 0):\n",
    "        print(f'El numero {i} es par')\n",
    "    else:\n",
    "        print(f'El numero {i} es impar')\n",
    "    i = i + 1"
   ]
  },
  {
   "attachments": {},
   "cell_type": "markdown",
   "metadata": {},
   "source": [
    "4) En un ciclo for mostrar para los valores entre 0 y 5 el resultado de elevarlo a la potencia igual a 3"
   ]
  },
  {
   "cell_type": "code",
   "execution_count": 9,
   "metadata": {},
   "outputs": [
    {
     "name": "stdout",
     "output_type": "stream",
     "text": [
      "Valor: 0  Elevado a la 3ra potencia: 0\n",
      "Valor: 1  Elevado a la 3ra potencia: 1\n",
      "Valor: 2  Elevado a la 3ra potencia: 8\n",
      "Valor: 3  Elevado a la 3ra potencia: 27\n",
      "Valor: 4  Elevado a la 3ra potencia: 64\n",
      "Valor: 5  Elevado a la 3ra potencia: 125\n"
     ]
    }
   ],
   "source": [
    "for i in range(0, 6):\n",
    "    print('Valor:', str(i), ' Elevado a la 3ra potencia:', str(i**3))"
   ]
  },
  {
   "attachments": {},
   "cell_type": "markdown",
   "metadata": {},
   "source": [
    "5) Crear una variable que contenga un número entero y realizar un ciclo for la misma cantidad de ciclos"
   ]
  },
  {
   "cell_type": "code",
   "execution_count": 10,
   "metadata": {},
   "outputs": [
    {
     "name": "stdout",
     "output_type": "stream",
     "text": [
      "11\n"
     ]
    }
   ],
   "source": [
    "n = 12\n",
    "for i in range(0, n):\n",
    "    pass\n",
    "print(i)"
   ]
  },
  {
   "attachments": {},
   "cell_type": "markdown",
   "metadata": {},
   "source": [
    "6) Utilizar un ciclo while para realizar el factorial de un número guardado en una variable, sólo si la variable contiene un número entero mayor a 0"
   ]
  },
  {
   "cell_type": "code",
   "execution_count": 2,
   "metadata": {},
   "outputs": [
    {
     "name": "stdout",
     "output_type": "stream",
     "text": [
      "El factorial es 120\n"
     ]
    }
   ],
   "source": [
    "n = 5\n",
    "if (type(n) == int):\n",
    "    if (n > 0):\n",
    "        factorial = n\n",
    "        while (n > 2):\n",
    "            n = n - 1\n",
    "            factorial = factorial * n\n",
    "        print('El factorial es', factorial)\n",
    "    else:\n",
    "        print('La variable no es mayor a cero')\n",
    "else:\n",
    "    print('La variable no es un entero')\n",
    "    "
   ]
  },
  {
   "cell_type": "code",
   "execution_count": 5,
   "metadata": {},
   "outputs": [
    {
     "name": "stdout",
     "output_type": "stream",
     "text": [
      "120\n"
     ]
    }
   ],
   "source": [
    "# resolución con bucle for\n",
    "\n",
    "numero = 5\n",
    "factorial = 1\n",
    "for i in range(2, (numero + 1)):\n",
    "    factorial = i * factorial\n",
    "print(factorial)"
   ]
  },
  {
   "attachments": {},
   "cell_type": "markdown",
   "metadata": {},
   "source": [
    "7) Crear un ciclo for dentro de un ciclo while"
   ]
  },
  {
   "cell_type": "code",
   "execution_count": 6,
   "metadata": {},
   "outputs": [
    {
     "name": "stdout",
     "output_type": "stream",
     "text": [
      "Ciclo while nro 1\n",
      "Ciclo for nro 1\n",
      "Ciclo while nro 2\n",
      "Ciclo for nro 1\n",
      "Ciclo for nro 2\n",
      "Ciclo while nro 3\n",
      "Ciclo for nro 1\n",
      "Ciclo for nro 2\n",
      "Ciclo for nro 3\n",
      "Ciclo while nro 4\n",
      "Ciclo for nro 1\n",
      "Ciclo for nro 2\n",
      "Ciclo for nro 3\n",
      "Ciclo for nro 4\n"
     ]
    }
   ],
   "source": [
    "n = 1\n",
    "while n < 5:\n",
    "    print('Ciclo while nro ' + str(n))  # Imprime el número del ciclo while\n",
    "    for i in range(1, n+1): # como la función range(a, b) genera una secuencia de números desde a hasta b-1. Para que el bucle for incluya el número n, usamos range(1, n+1) en lugar de range(1, n).\n",
    "        print('Ciclo for nro ' + str(i))  # Imprime el número del ciclo for\n",
    "    n += 1"
   ]
  },
  {
   "attachments": {},
   "cell_type": "markdown",
   "metadata": {},
   "source": [
    "8) Crear un ciclo while dentro de un ciclo for"
   ]
  },
  {
   "cell_type": "code",
   "execution_count": 9,
   "metadata": {},
   "outputs": [],
   "source": [
    "n = 5\n",
    "for i in range(1, n):\n",
    "    while(n < 5):\n",
    "        n -= 1\n",
    "        print('Ciclo while nro ' + str(n))\n",
    "        print('Ciclo for nro ' + str(i))"
   ]
  },
  {
   "cell_type": "code",
   "execution_count": 11,
   "metadata": {},
   "outputs": [
    {
     "name": "stdout",
     "output_type": "stream",
     "text": [
      "Ciclo for nro 1\n",
      "Ciclo while nro 5\n",
      "Ciclo while nro 4\n",
      "Ciclo while nro 3\n",
      "Ciclo while nro 2\n",
      "Ciclo while nro 1\n",
      "Ciclo for nro 2\n",
      "Ciclo while nro 5\n",
      "Ciclo while nro 4\n",
      "Ciclo while nro 3\n",
      "Ciclo while nro 2\n",
      "Ciclo while nro 1\n",
      "Ciclo for nro 3\n",
      "Ciclo while nro 5\n",
      "Ciclo while nro 4\n",
      "Ciclo while nro 3\n",
      "Ciclo while nro 2\n",
      "Ciclo while nro 1\n",
      "Ciclo for nro 4\n",
      "Ciclo while nro 5\n",
      "Ciclo while nro 4\n",
      "Ciclo while nro 3\n",
      "Ciclo while nro 2\n",
      "Ciclo while nro 1\n"
     ]
    }
   ],
   "source": [
    "n = 5\n",
    "for i in range(1, n):\n",
    "    print('Ciclo for nro ' + str(i))  # Imprime el número del ciclo for\n",
    "    \n",
    "    n_temp = n  # Almacena el valor original de n en una variable temporal\n",
    "    \n",
    "    while n_temp > 0:  # Ciclo while que se ejecuta mientras n_temp sea mayor que 0\n",
    "        print('Ciclo while nro ' + str(n_temp))  # Imprime el número del ciclo while\n",
    "        n_temp -= 1\n",
    "        \n",
    "        if n_temp <= 0:\n",
    "            break  # Sale del ciclo while cuando n_temp sea menor o igual a 0\n",
    "    \n"
   ]
  },
  {
   "attachments": {},
   "cell_type": "markdown",
   "metadata": {},
   "source": [
    "9) Imprimir los números primos existentes entre 0 y 30"
   ]
  },
  {
   "cell_type": "code",
   "execution_count": 1,
   "metadata": {},
   "outputs": [
    {
     "name": "stdout",
     "output_type": "stream",
     "text": [
      "0\n",
      "1\n",
      "2\n",
      "3  -  2  -  1.5\n",
      "3\n",
      "4  -  2  -  2.0\n",
      "4  -  3  -  1.3333333333333333\n",
      "5  -  2  -  2.5\n",
      "5  -  3  -  1.6666666666666667\n",
      "5  -  4  -  1.25\n",
      "5\n",
      "6  -  2  -  3.0\n",
      "6  -  3  -  2.0\n",
      "6  -  4  -  1.5\n",
      "6  -  5  -  1.2\n",
      "7  -  2  -  3.5\n",
      "7  -  3  -  2.3333333333333335\n",
      "7  -  4  -  1.75\n",
      "7  -  5  -  1.4\n",
      "7  -  6  -  1.1666666666666667\n",
      "7\n",
      "8  -  2  -  4.0\n",
      "8  -  3  -  2.6666666666666665\n",
      "8  -  4  -  2.0\n",
      "8  -  5  -  1.6\n",
      "8  -  6  -  1.3333333333333333\n",
      "8  -  7  -  1.1428571428571428\n",
      "9  -  2  -  4.5\n",
      "9  -  3  -  3.0\n",
      "9  -  4  -  2.25\n",
      "9  -  5  -  1.8\n",
      "9  -  6  -  1.5\n",
      "9  -  7  -  1.2857142857142858\n",
      "9  -  8  -  1.125\n",
      "10  -  2  -  5.0\n",
      "10  -  3  -  3.3333333333333335\n",
      "10  -  4  -  2.5\n",
      "10  -  5  -  2.0\n",
      "10  -  6  -  1.6666666666666667\n",
      "10  -  7  -  1.4285714285714286\n",
      "10  -  8  -  1.25\n",
      "10  -  9  -  1.1111111111111112\n",
      "11  -  2  -  5.5\n",
      "11  -  3  -  3.6666666666666665\n",
      "11  -  4  -  2.75\n",
      "11  -  5  -  2.2\n",
      "11  -  6  -  1.8333333333333333\n",
      "11  -  7  -  1.5714285714285714\n",
      "11  -  8  -  1.375\n",
      "11  -  9  -  1.2222222222222223\n",
      "11  -  10  -  1.1\n",
      "11\n",
      "12  -  2  -  6.0\n",
      "12  -  3  -  4.0\n",
      "12  -  4  -  3.0\n",
      "12  -  5  -  2.4\n",
      "12  -  6  -  2.0\n",
      "12  -  7  -  1.7142857142857142\n",
      "12  -  8  -  1.5\n",
      "12  -  9  -  1.3333333333333333\n",
      "12  -  10  -  1.2\n",
      "12  -  11  -  1.0909090909090908\n",
      "13  -  2  -  6.5\n",
      "13  -  3  -  4.333333333333333\n",
      "13  -  4  -  3.25\n",
      "13  -  5  -  2.6\n",
      "13  -  6  -  2.1666666666666665\n",
      "13  -  7  -  1.8571428571428572\n",
      "13  -  8  -  1.625\n",
      "13  -  9  -  1.4444444444444444\n",
      "13  -  10  -  1.3\n",
      "13  -  11  -  1.1818181818181819\n",
      "13  -  12  -  1.0833333333333333\n",
      "13\n",
      "14  -  2  -  7.0\n",
      "14  -  3  -  4.666666666666667\n",
      "14  -  4  -  3.5\n",
      "14  -  5  -  2.8\n",
      "14  -  6  -  2.3333333333333335\n",
      "14  -  7  -  2.0\n",
      "14  -  8  -  1.75\n",
      "14  -  9  -  1.5555555555555556\n",
      "14  -  10  -  1.4\n",
      "14  -  11  -  1.2727272727272727\n",
      "14  -  12  -  1.1666666666666667\n",
      "14  -  13  -  1.0769230769230769\n",
      "15  -  2  -  7.5\n",
      "15  -  3  -  5.0\n",
      "15  -  4  -  3.75\n",
      "15  -  5  -  3.0\n",
      "15  -  6  -  2.5\n",
      "15  -  7  -  2.142857142857143\n",
      "15  -  8  -  1.875\n",
      "15  -  9  -  1.6666666666666667\n",
      "15  -  10  -  1.5\n",
      "15  -  11  -  1.3636363636363635\n",
      "15  -  12  -  1.25\n",
      "15  -  13  -  1.1538461538461537\n",
      "15  -  14  -  1.0714285714285714\n",
      "16  -  2  -  8.0\n",
      "16  -  3  -  5.333333333333333\n",
      "16  -  4  -  4.0\n",
      "16  -  5  -  3.2\n",
      "16  -  6  -  2.6666666666666665\n",
      "16  -  7  -  2.2857142857142856\n",
      "16  -  8  -  2.0\n",
      "16  -  9  -  1.7777777777777777\n",
      "16  -  10  -  1.6\n",
      "16  -  11  -  1.4545454545454546\n",
      "16  -  12  -  1.3333333333333333\n",
      "16  -  13  -  1.2307692307692308\n",
      "16  -  14  -  1.1428571428571428\n",
      "16  -  15  -  1.0666666666666667\n",
      "17  -  2  -  8.5\n",
      "17  -  3  -  5.666666666666667\n",
      "17  -  4  -  4.25\n",
      "17  -  5  -  3.4\n",
      "17  -  6  -  2.8333333333333335\n",
      "17  -  7  -  2.4285714285714284\n",
      "17  -  8  -  2.125\n",
      "17  -  9  -  1.8888888888888888\n",
      "17  -  10  -  1.7\n",
      "17  -  11  -  1.5454545454545454\n",
      "17  -  12  -  1.4166666666666667\n",
      "17  -  13  -  1.3076923076923077\n",
      "17  -  14  -  1.2142857142857142\n",
      "17  -  15  -  1.1333333333333333\n",
      "17  -  16  -  1.0625\n",
      "17\n",
      "18  -  2  -  9.0\n",
      "18  -  3  -  6.0\n",
      "18  -  4  -  4.5\n",
      "18  -  5  -  3.6\n",
      "18  -  6  -  3.0\n",
      "18  -  7  -  2.5714285714285716\n",
      "18  -  8  -  2.25\n",
      "18  -  9  -  2.0\n",
      "18  -  10  -  1.8\n",
      "18  -  11  -  1.6363636363636365\n",
      "18  -  12  -  1.5\n",
      "18  -  13  -  1.3846153846153846\n",
      "18  -  14  -  1.2857142857142858\n",
      "18  -  15  -  1.2\n",
      "18  -  16  -  1.125\n",
      "18  -  17  -  1.0588235294117647\n",
      "19  -  2  -  9.5\n",
      "19  -  3  -  6.333333333333333\n",
      "19  -  4  -  4.75\n",
      "19  -  5  -  3.8\n",
      "19  -  6  -  3.1666666666666665\n",
      "19  -  7  -  2.7142857142857144\n",
      "19  -  8  -  2.375\n",
      "19  -  9  -  2.111111111111111\n",
      "19  -  10  -  1.9\n",
      "19  -  11  -  1.7272727272727273\n",
      "19  -  12  -  1.5833333333333333\n",
      "19  -  13  -  1.4615384615384615\n",
      "19  -  14  -  1.3571428571428572\n",
      "19  -  15  -  1.2666666666666666\n",
      "19  -  16  -  1.1875\n",
      "19  -  17  -  1.1176470588235294\n",
      "19  -  18  -  1.0555555555555556\n",
      "19\n",
      "20  -  2  -  10.0\n",
      "20  -  3  -  6.666666666666667\n",
      "20  -  4  -  5.0\n",
      "20  -  5  -  4.0\n",
      "20  -  6  -  3.3333333333333335\n",
      "20  -  7  -  2.857142857142857\n",
      "20  -  8  -  2.5\n",
      "20  -  9  -  2.2222222222222223\n",
      "20  -  10  -  2.0\n",
      "20  -  11  -  1.8181818181818181\n",
      "20  -  12  -  1.6666666666666667\n",
      "20  -  13  -  1.5384615384615385\n",
      "20  -  14  -  1.4285714285714286\n",
      "20  -  15  -  1.3333333333333333\n",
      "20  -  16  -  1.25\n",
      "20  -  17  -  1.1764705882352942\n",
      "20  -  18  -  1.1111111111111112\n",
      "20  -  19  -  1.0526315789473684\n",
      "21  -  2  -  10.5\n",
      "21  -  3  -  7.0\n",
      "21  -  4  -  5.25\n",
      "21  -  5  -  4.2\n",
      "21  -  6  -  3.5\n",
      "21  -  7  -  3.0\n",
      "21  -  8  -  2.625\n",
      "21  -  9  -  2.3333333333333335\n",
      "21  -  10  -  2.1\n",
      "21  -  11  -  1.9090909090909092\n",
      "21  -  12  -  1.75\n",
      "21  -  13  -  1.6153846153846154\n",
      "21  -  14  -  1.5\n",
      "21  -  15  -  1.4\n",
      "21  -  16  -  1.3125\n",
      "21  -  17  -  1.2352941176470589\n",
      "21  -  18  -  1.1666666666666667\n",
      "21  -  19  -  1.105263157894737\n",
      "21  -  20  -  1.05\n",
      "22  -  2  -  11.0\n",
      "22  -  3  -  7.333333333333333\n",
      "22  -  4  -  5.5\n",
      "22  -  5  -  4.4\n",
      "22  -  6  -  3.6666666666666665\n",
      "22  -  7  -  3.142857142857143\n",
      "22  -  8  -  2.75\n",
      "22  -  9  -  2.4444444444444446\n",
      "22  -  10  -  2.2\n",
      "22  -  11  -  2.0\n",
      "22  -  12  -  1.8333333333333333\n",
      "22  -  13  -  1.6923076923076923\n",
      "22  -  14  -  1.5714285714285714\n",
      "22  -  15  -  1.4666666666666666\n",
      "22  -  16  -  1.375\n",
      "22  -  17  -  1.2941176470588236\n",
      "22  -  18  -  1.2222222222222223\n",
      "22  -  19  -  1.1578947368421053\n",
      "22  -  20  -  1.1\n",
      "22  -  21  -  1.0476190476190477\n",
      "23  -  2  -  11.5\n",
      "23  -  3  -  7.666666666666667\n",
      "23  -  4  -  5.75\n",
      "23  -  5  -  4.6\n",
      "23  -  6  -  3.8333333333333335\n",
      "23  -  7  -  3.2857142857142856\n",
      "23  -  8  -  2.875\n",
      "23  -  9  -  2.5555555555555554\n",
      "23  -  10  -  2.3\n",
      "23  -  11  -  2.090909090909091\n",
      "23  -  12  -  1.9166666666666667\n",
      "23  -  13  -  1.7692307692307692\n",
      "23  -  14  -  1.6428571428571428\n",
      "23  -  15  -  1.5333333333333334\n",
      "23  -  16  -  1.4375\n",
      "23  -  17  -  1.3529411764705883\n",
      "23  -  18  -  1.2777777777777777\n",
      "23  -  19  -  1.2105263157894737\n",
      "23  -  20  -  1.15\n",
      "23  -  21  -  1.0952380952380953\n",
      "23  -  22  -  1.0454545454545454\n",
      "23\n",
      "24  -  2  -  12.0\n",
      "24  -  3  -  8.0\n",
      "24  -  4  -  6.0\n",
      "24  -  5  -  4.8\n",
      "24  -  6  -  4.0\n",
      "24  -  7  -  3.4285714285714284\n",
      "24  -  8  -  3.0\n",
      "24  -  9  -  2.6666666666666665\n",
      "24  -  10  -  2.4\n",
      "24  -  11  -  2.1818181818181817\n",
      "24  -  12  -  2.0\n",
      "24  -  13  -  1.8461538461538463\n",
      "24  -  14  -  1.7142857142857142\n",
      "24  -  15  -  1.6\n",
      "24  -  16  -  1.5\n",
      "24  -  17  -  1.411764705882353\n",
      "24  -  18  -  1.3333333333333333\n",
      "24  -  19  -  1.263157894736842\n",
      "24  -  20  -  1.2\n",
      "24  -  21  -  1.1428571428571428\n",
      "24  -  22  -  1.0909090909090908\n",
      "24  -  23  -  1.0434782608695652\n",
      "25  -  2  -  12.5\n",
      "25  -  3  -  8.333333333333334\n",
      "25  -  4  -  6.25\n",
      "25  -  5  -  5.0\n",
      "25  -  6  -  4.166666666666667\n",
      "25  -  7  -  3.5714285714285716\n",
      "25  -  8  -  3.125\n",
      "25  -  9  -  2.7777777777777777\n",
      "25  -  10  -  2.5\n",
      "25  -  11  -  2.272727272727273\n",
      "25  -  12  -  2.0833333333333335\n",
      "25  -  13  -  1.9230769230769231\n",
      "25  -  14  -  1.7857142857142858\n",
      "25  -  15  -  1.6666666666666667\n",
      "25  -  16  -  1.5625\n",
      "25  -  17  -  1.4705882352941178\n",
      "25  -  18  -  1.3888888888888888\n",
      "25  -  19  -  1.3157894736842106\n",
      "25  -  20  -  1.25\n",
      "25  -  21  -  1.1904761904761905\n",
      "25  -  22  -  1.1363636363636365\n",
      "25  -  23  -  1.0869565217391304\n",
      "25  -  24  -  1.0416666666666667\n",
      "26  -  2  -  13.0\n",
      "26  -  3  -  8.666666666666666\n",
      "26  -  4  -  6.5\n",
      "26  -  5  -  5.2\n",
      "26  -  6  -  4.333333333333333\n",
      "26  -  7  -  3.7142857142857144\n",
      "26  -  8  -  3.25\n",
      "26  -  9  -  2.888888888888889\n",
      "26  -  10  -  2.6\n",
      "26  -  11  -  2.3636363636363638\n",
      "26  -  12  -  2.1666666666666665\n",
      "26  -  13  -  2.0\n",
      "26  -  14  -  1.8571428571428572\n",
      "26  -  15  -  1.7333333333333334\n",
      "26  -  16  -  1.625\n",
      "26  -  17  -  1.5294117647058822\n",
      "26  -  18  -  1.4444444444444444\n",
      "26  -  19  -  1.368421052631579\n",
      "26  -  20  -  1.3\n",
      "26  -  21  -  1.2380952380952381\n",
      "26  -  22  -  1.1818181818181819\n",
      "26  -  23  -  1.1304347826086956\n",
      "26  -  24  -  1.0833333333333333\n",
      "26  -  25  -  1.04\n",
      "27  -  2  -  13.5\n",
      "27  -  3  -  9.0\n",
      "27  -  4  -  6.75\n",
      "27  -  5  -  5.4\n",
      "27  -  6  -  4.5\n",
      "27  -  7  -  3.857142857142857\n",
      "27  -  8  -  3.375\n",
      "27  -  9  -  3.0\n",
      "27  -  10  -  2.7\n",
      "27  -  11  -  2.4545454545454546\n",
      "27  -  12  -  2.25\n",
      "27  -  13  -  2.076923076923077\n",
      "27  -  14  -  1.9285714285714286\n",
      "27  -  15  -  1.8\n",
      "27  -  16  -  1.6875\n",
      "27  -  17  -  1.588235294117647\n",
      "27  -  18  -  1.5\n",
      "27  -  19  -  1.4210526315789473\n",
      "27  -  20  -  1.35\n",
      "27  -  21  -  1.2857142857142858\n",
      "27  -  22  -  1.2272727272727273\n",
      "27  -  23  -  1.173913043478261\n",
      "27  -  24  -  1.125\n",
      "27  -  25  -  1.08\n",
      "27  -  26  -  1.0384615384615385\n",
      "28  -  2  -  14.0\n",
      "28  -  3  -  9.333333333333334\n",
      "28  -  4  -  7.0\n",
      "28  -  5  -  5.6\n",
      "28  -  6  -  4.666666666666667\n",
      "28  -  7  -  4.0\n",
      "28  -  8  -  3.5\n",
      "28  -  9  -  3.111111111111111\n",
      "28  -  10  -  2.8\n",
      "28  -  11  -  2.5454545454545454\n",
      "28  -  12  -  2.3333333333333335\n",
      "28  -  13  -  2.1538461538461537\n",
      "28  -  14  -  2.0\n",
      "28  -  15  -  1.8666666666666667\n",
      "28  -  16  -  1.75\n",
      "28  -  17  -  1.6470588235294117\n",
      "28  -  18  -  1.5555555555555556\n",
      "28  -  19  -  1.4736842105263157\n",
      "28  -  20  -  1.4\n",
      "28  -  21  -  1.3333333333333333\n",
      "28  -  22  -  1.2727272727272727\n",
      "28  -  23  -  1.2173913043478262\n",
      "28  -  24  -  1.1666666666666667\n",
      "28  -  25  -  1.12\n",
      "28  -  26  -  1.0769230769230769\n",
      "28  -  27  -  1.037037037037037\n",
      "29  -  2  -  14.5\n",
      "29  -  3  -  9.666666666666666\n",
      "29  -  4  -  7.25\n",
      "29  -  5  -  5.8\n",
      "29  -  6  -  4.833333333333333\n",
      "29  -  7  -  4.142857142857143\n",
      "29  -  8  -  3.625\n",
      "29  -  9  -  3.2222222222222223\n",
      "29  -  10  -  2.9\n",
      "29  -  11  -  2.6363636363636362\n",
      "29  -  12  -  2.4166666666666665\n",
      "29  -  13  -  2.230769230769231\n",
      "29  -  14  -  2.0714285714285716\n",
      "29  -  15  -  1.9333333333333333\n",
      "29  -  16  -  1.8125\n",
      "29  -  17  -  1.7058823529411764\n",
      "29  -  18  -  1.6111111111111112\n",
      "29  -  19  -  1.5263157894736843\n",
      "29  -  20  -  1.45\n",
      "29  -  21  -  1.380952380952381\n",
      "29  -  22  -  1.3181818181818181\n",
      "29  -  23  -  1.2608695652173914\n",
      "29  -  24  -  1.2083333333333333\n",
      "29  -  25  -  1.16\n",
      "29  -  26  -  1.1153846153846154\n",
      "29  -  27  -  1.0740740740740742\n",
      "29  -  28  -  1.0357142857142858\n",
      "29\n"
     ]
    }
   ],
   "source": [
    "tope_rango=30\n",
    "n = 0\n",
    "primo = True\n",
    "while (n < tope_rango):\n",
    "    for div in range(2, n):\n",
    "        print(n,' - ', div,' - ', n/div,' - ', n%div)\n",
    "        if (n % div == 0):\n",
    "            primo = False\n",
    "    if (primo):\n",
    "        print(n)\n",
    "    else:\n",
    "        primo = True\n",
    "    n += 1"
   ]
  },
  {
   "attachments": {},
   "cell_type": "markdown",
   "metadata": {},
   "source": [
    "10) ¿Se puede mejorar el proceso del punto 9? Utilizar las sentencias break y/ó continue para tal fin"
   ]
  },
  {
   "cell_type": "code",
   "execution_count": 12,
   "metadata": {},
   "outputs": [
    {
     "name": "stdout",
     "output_type": "stream",
     "text": [
      "0\n",
      "1\n",
      "2\n",
      "3\n",
      "5\n",
      "7\n",
      "11\n",
      "13\n",
      "17\n",
      "19\n",
      "23\n",
      "29\n"
     ]
    }
   ],
   "source": [
    "n = 0\n",
    "primo = True\n",
    "while (n < tope_rango):\n",
    "    for div in range(2, n):\n",
    "        if (n % div == 0):\n",
    "            primo = False\n",
    "            break\n",
    "    if (primo):\n",
    "        print(n)\n",
    "    else:\n",
    "        primo = True\n",
    "    n += 1"
   ]
  },
  {
   "attachments": {},
   "cell_type": "markdown",
   "metadata": {},
   "source": [
    "11) En los puntos 9 y 10, se diseño un código que encuentra números primos y además se lo optimizó. ¿Es posible saber en qué medida se optimizó?"
   ]
  },
  {
   "cell_type": "code",
   "execution_count": 13,
   "metadata": {},
   "outputs": [
    {
     "name": "stdout",
     "output_type": "stream",
     "text": [
      "0\n",
      "1\n",
      "2\n",
      "3\n",
      "5\n",
      "7\n",
      "11\n",
      "13\n",
      "17\n",
      "19\n",
      "23\n",
      "29\n",
      "Cantidad de ciclos: 378\n"
     ]
    }
   ],
   "source": [
    "ciclos_sin_break = 0\n",
    "n = 0\n",
    "primo = True\n",
    "while (n < tope_rango):\n",
    "    for div in range(2, n):\n",
    "        ciclos_sin_break += 1\n",
    "        if (n % div == 0):\n",
    "            primo = False\n",
    "    if (primo):\n",
    "        print(n)\n",
    "    else:\n",
    "        primo = True\n",
    "    n += 1\n",
    "print('Cantidad de ciclos: ' + str(ciclos_sin_break))"
   ]
  },
  {
   "cell_type": "code",
   "execution_count": 14,
   "metadata": {},
   "outputs": [
    {
     "name": "stdout",
     "output_type": "stream",
     "text": [
      "0\n",
      "1\n",
      "2\n",
      "3\n",
      "5\n",
      "7\n",
      "11\n",
      "13\n",
      "17\n",
      "19\n",
      "23\n",
      "29\n",
      "Cantidad de ciclos: 134\n",
      "Se optimizó a un 0.3544973544973545% de ciclos aplicando break\n"
     ]
    }
   ],
   "source": [
    "ciclos_con_break = 0\n",
    "n = 0\n",
    "primo = True\n",
    "while (n < tope_rango):\n",
    "    for div in range(2, n):\n",
    "        ciclos_con_break += 1\n",
    "        if (n % div == 0):\n",
    "            primo = False\n",
    "            break\n",
    "    if (primo):\n",
    "        print(n)\n",
    "    else:\n",
    "        primo = True\n",
    "    n += 1\n",
    "print('Cantidad de ciclos: ' + str(ciclos_con_break))\n",
    "print('Se optimizó a un ' + str(ciclos_con_break/ciclos_sin_break) + '% de ciclos aplicando break')"
   ]
  },
  {
   "attachments": {},
   "cell_type": "markdown",
   "metadata": {},
   "source": [
    "12) Si la cantidad de números que se evalúa es mayor a treinta, esa optimización crece?"
   ]
  },
  {
   "cell_type": "code",
   "execution_count": 58,
   "metadata": {},
   "outputs": [
    {
     "name": "stdout",
     "output_type": "stream",
     "text": [
      "0\n",
      "1\n",
      "2\n",
      "3\n",
      "5\n",
      "7\n",
      "11\n",
      "13\n",
      "17\n",
      "19\n",
      "23\n",
      "29\n",
      "31\n",
      "37\n",
      "41\n",
      "43\n",
      "47\n",
      "53\n",
      "59\n",
      "61\n",
      "67\n",
      "71\n",
      "73\n",
      "79\n",
      "83\n",
      "89\n",
      "97\n",
      "Cantidad de ciclos: 4753\n"
     ]
    }
   ],
   "source": [
    "tope_rango=100\n",
    "ciclos_sin_break = 0\n",
    "n = 0\n",
    "primo = True\n",
    "while (n < tope_rango):\n",
    "    for div in range(2, n):\n",
    "        ciclos_sin_break += 1\n",
    "        if (n % div == 0):\n",
    "            primo = False\n",
    "    if (primo):\n",
    "        print(n)\n",
    "    else:\n",
    "        primo = True\n",
    "    n += 1\n",
    "print('Cantidad de ciclos: ' + str(ciclos_sin_break))"
   ]
  },
  {
   "cell_type": "code",
   "execution_count": 59,
   "metadata": {},
   "outputs": [
    {
     "name": "stdout",
     "output_type": "stream",
     "text": [
      "0\n",
      "1\n",
      "2\n",
      "3\n",
      "5\n",
      "7\n",
      "11\n",
      "13\n",
      "17\n",
      "19\n",
      "23\n",
      "29\n",
      "31\n",
      "37\n",
      "41\n",
      "43\n",
      "47\n",
      "53\n",
      "59\n",
      "61\n",
      "67\n",
      "71\n",
      "73\n",
      "79\n",
      "83\n",
      "89\n",
      "97\n",
      "Cantidad de ciclos: 1132\n",
      "Se optimizó a un 0.2381653692404797% de ciclos aplicando break\n"
     ]
    }
   ],
   "source": [
    "ciclos_con_break = 0\n",
    "n = 0\n",
    "primo = True\n",
    "while (n < tope_rango):\n",
    "    for div in range(2, n):\n",
    "        ciclos_con_break += 1\n",
    "        if (n % div == 0):\n",
    "            primo = False\n",
    "            break\n",
    "    if (primo):\n",
    "        print(n)\n",
    "    else:\n",
    "        primo = True\n",
    "    n += 1\n",
    "print('Cantidad de ciclos: ' + str(ciclos_con_break))\n",
    "print('Se optimizó a un ' + str(ciclos_con_break/ciclos_sin_break) + '% de ciclos aplicando break')"
   ]
  },
  {
   "attachments": {},
   "cell_type": "markdown",
   "metadata": {},
   "source": [
    "13) Aplicando continue, armar un ciclo while que solo imprima los valores divisibles por 12, dentro del rango de números de 100 a 300"
   ]
  },
  {
   "cell_type": "code",
   "execution_count": 15,
   "metadata": {},
   "outputs": [
    {
     "name": "stdout",
     "output_type": "stream",
     "text": [
      "108  es divisible por 12\n",
      "120  es divisible por 12\n",
      "132  es divisible por 12\n",
      "144  es divisible por 12\n",
      "156  es divisible por 12\n",
      "168  es divisible por 12\n",
      "180  es divisible por 12\n",
      "192  es divisible por 12\n",
      "204  es divisible por 12\n",
      "216  es divisible por 12\n",
      "228  es divisible por 12\n",
      "240  es divisible por 12\n",
      "252  es divisible por 12\n",
      "264  es divisible por 12\n",
      "276  es divisible por 12\n",
      "288  es divisible por 12\n",
      "300  es divisible por 12\n"
     ]
    }
   ],
   "source": [
    "n = 99\n",
    "while(n <= 300):\n",
    "    n += 1\n",
    "    if (n % 12 != 0):\n",
    "        continue\n",
    "    print(n, ' es divisible por 12')"
   ]
  },
  {
   "attachments": {},
   "cell_type": "markdown",
   "metadata": {},
   "source": [
    "14) Utilizar la función **input()** que permite hacer ingresos por teclado, para encontrar números primos y dar la opción al usario de buscar el siguiente"
   ]
  },
  {
   "cell_type": "code",
   "execution_count": 73,
   "metadata": {},
   "outputs": [
    {
     "name": "stdout",
     "output_type": "stream",
     "text": [
      "1\n",
      "¿Desea encontrar el siguiente número primo?\n",
      "2\n",
      "¿Desea encontrar el siguiente número primo?\n",
      "3\n",
      "¿Desea encontrar el siguiente número primo?\n",
      "5\n",
      "¿Desea encontrar el siguiente número primo?\n",
      "7\n",
      "¿Desea encontrar el siguiente número primo?\n",
      "11\n",
      "¿Desea encontrar el siguiente número primo?\n",
      "13\n",
      "¿Desea encontrar el siguiente número primo?\n",
      "Se finaliza el proceso\n"
     ]
    }
   ],
   "source": [
    "n = 1\n",
    "sigue = 1\n",
    "primo = True\n",
    "while (sigue == 1):\n",
    "    for div in range(2, n):\n",
    "        if (n % div == 0):\n",
    "            primo = False\n",
    "            break\n",
    "    if (primo):\n",
    "        print(n)\n",
    "        print('¿Desea encontrar el siguiente número primo?')\n",
    "        if (input() != '1'):\n",
    "            print('Se finaliza el proceso')\n",
    "            break\n",
    "    else:\n",
    "        primo = True\n",
    "    n += 1"
   ]
  },
  {
   "attachments": {},
   "cell_type": "markdown",
   "metadata": {},
   "source": [
    "15) Crear un ciclo while que encuentre dentro del rango de 100 a 300 el primer número divisible por 3 y además múltiplo de 6"
   ]
  },
  {
   "cell_type": "code",
   "execution_count": 75,
   "metadata": {},
   "outputs": [
    {
     "name": "stdout",
     "output_type": "stream",
     "text": [
      "El número es:  102\n"
     ]
    }
   ],
   "source": [
    "n = 100\n",
    "while(n<=300):\n",
    "    if (n % 6 == 0):\n",
    "        print('El número es: ', str(n))\n",
    "        break\n",
    "    n += 1"
   ]
  }
 ],
 "metadata": {
  "interpreter": {
   "hash": "c85384e4cb51c8b72350f3a8712cc8351fdc3955e32a27f9b60c6242ab125f01"
  },
  "kernelspec": {
   "display_name": "Python 3 (ipykernel)",
   "language": "python",
   "name": "python3"
  },
  "language_info": {
   "codemirror_mode": {
    "name": "ipython",
    "version": 3
   },
   "file_extension": ".py",
   "mimetype": "text/x-python",
   "name": "python",
   "nbconvert_exporter": "python",
   "pygments_lexer": "ipython3",
   "version": "3.11.3"
  }
 },
 "nbformat": 4,
 "nbformat_minor": 4
}
