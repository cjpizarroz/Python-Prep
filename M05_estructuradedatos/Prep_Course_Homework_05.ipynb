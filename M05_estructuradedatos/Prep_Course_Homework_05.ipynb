{
 "cells": [
  {
   "attachments": {},
   "cell_type": "markdown",
   "metadata": {},
   "source": [
    "## Estructuras de Datos"
   ]
  },
  {
   "attachments": {},
   "cell_type": "markdown",
   "metadata": {},
   "source": [
    "1) Crear una lista que contenga nombres de ciudades del mundo que contenga más de 5 elementos e imprimir por pantalla"
   ]
  },
  {
   "cell_type": "code",
   "execution_count": 3,
   "metadata": {},
   "outputs": [
    {
     "name": "stdout",
     "output_type": "stream",
     "text": [
      "['Paris', 'New York', 'San Pablo', 'Madrid', 'Londres', 'Luxemburgo', 'Santiago']\n",
      "<class 'list'>\n"
     ]
    }
   ],
   "source": [
    "ciudades =['Paris', 'New York', 'San Pablo', 'Madrid', 'Londres', 'Luxemburgo', 'Santiago']\n",
    "print(ciudades)\n",
    "print(type(ciudades))"
   ]
  },
  {
   "attachments": {},
   "cell_type": "markdown",
   "metadata": {},
   "source": [
    "2) Imprimir por pantalla el segundo elemento de la lista"
   ]
  },
  {
   "cell_type": "code",
   "execution_count": 4,
   "metadata": {},
   "outputs": [
    {
     "name": "stdout",
     "output_type": "stream",
     "text": [
      "New York\n"
     ]
    }
   ],
   "source": [
    "\n",
    "print(ciudades[1])"
   ]
  },
  {
   "attachments": {},
   "cell_type": "markdown",
   "metadata": {},
   "source": [
    "3) Imprimir por pantalla del segundo al cuarto elemento"
   ]
  },
  {
   "cell_type": "code",
   "execution_count": 6,
   "metadata": {},
   "outputs": [
    {
     "name": "stdout",
     "output_type": "stream",
     "text": [
      "['Paris', 'New York', 'San Pablo', 'Madrid', 'Londres', 'Luxemburgo', 'Santiago']\n",
      "['New York', 'San Pablo', 'Madrid']\n"
     ]
    }
   ],
   "source": [
    "print(ciudades)\n",
    "print(ciudades[1:4])"
   ]
  },
  {
   "attachments": {},
   "cell_type": "markdown",
   "metadata": {},
   "source": [
    "4) Visualizar el tipo de dato de la lista"
   ]
  },
  {
   "cell_type": "code",
   "execution_count": 7,
   "metadata": {},
   "outputs": [
    {
     "name": "stdout",
     "output_type": "stream",
     "text": [
      "<class 'list'>\n"
     ]
    }
   ],
   "source": [
    "print(type(ciudades))"
   ]
  },
  {
   "attachments": {},
   "cell_type": "markdown",
   "metadata": {},
   "source": [
    "5) Visualizar todos los elementos de la lista a partir del tercero de manera genérica, es decir, sin explicitar la posición del último elemento"
   ]
  },
  {
   "cell_type": "code",
   "execution_count": 9,
   "metadata": {},
   "outputs": [
    {
     "name": "stdout",
     "output_type": "stream",
     "text": [
      "['Paris', 'New York', 'San Pablo', 'Madrid', 'Londres', 'Luxemburgo', 'Santiago']\n",
      "['Madrid', 'Londres', 'Luxemburgo', 'Santiago']\n"
     ]
    }
   ],
   "source": [
    "print(ciudades)\n",
    "print(ciudades[3:])\n"
   ]
  },
  {
   "attachments": {},
   "cell_type": "markdown",
   "metadata": {},
   "source": [
    "6) Visualizar los primeros 4 elementos de la lista"
   ]
  },
  {
   "cell_type": "code",
   "execution_count": 10,
   "metadata": {},
   "outputs": [
    {
     "name": "stdout",
     "output_type": "stream",
     "text": [
      "['Paris', 'New York', 'San Pablo', 'Madrid', 'Londres', 'Luxemburgo', 'Santiago']\n",
      "['Paris', 'New York', 'San Pablo', 'Madrid']\n"
     ]
    }
   ],
   "source": [
    "print(ciudades)\n",
    "print(ciudades[:4])"
   ]
  },
  {
   "attachments": {},
   "cell_type": "markdown",
   "metadata": {},
   "source": [
    "7) Agregar una ciudad más a la lista que ya exista y otra que no ¿Arroja algún tipo de error?"
   ]
  },
  {
   "cell_type": "code",
   "execution_count": 13,
   "metadata": {},
   "outputs": [
    {
     "name": "stdout",
     "output_type": "stream",
     "text": [
      "['Paris', 'New York', 'San Pablo', 'Madrid', 'Londres', 'Luxemburgo', 'Santiago', 'Rosario', 'Rosario', 'Londres']\n"
     ]
    }
   ],
   "source": [
    "ciudades.append('Rosario')\n",
    "ciudades.append('Londres')\n",
    "print(ciudades)"
   ]
  },
  {
   "attachments": {},
   "cell_type": "markdown",
   "metadata": {},
   "source": [
    "8) Agregar otra ciudad, pero en la cuarta posición"
   ]
  },
  {
   "cell_type": "code",
   "execution_count": 20,
   "metadata": {},
   "outputs": [
    {
     "name": "stdout",
     "output_type": "stream",
     "text": [
      "['Paris', 'New York', 'San Pablo', 'Mendoza', 'Madrid', 'Londres', 'Luxemburgo', 'Santiago', 'Rosario', 'Rosario', 'Londres']\n"
     ]
    }
   ],
   "source": [
    "ciudades.insert(3,'Mendoza')\n",
    "print(ciudades)"
   ]
  },
  {
   "attachments": {},
   "cell_type": "markdown",
   "metadata": {},
   "source": [
    "9) Concatenar otra lista a la ya creada"
   ]
  },
  {
   "cell_type": "code",
   "execution_count": 21,
   "metadata": {},
   "outputs": [
    {
     "name": "stdout",
     "output_type": "stream",
     "text": [
      "['Paris', 'New York', 'San Pablo', 'Mendoza', 'Madrid', 'Londres', 'Luxemburgo', 'Santiago', 'Rosario', 'Rosario', 'Londres', 'San Rafael', 'San Carlos', 'Lavalle']\n"
     ]
    }
   ],
   "source": [
    "ciudades_mendoza=['San Rafael', 'San Carlos', 'Lavalle']\n",
    "ciudades.extend(ciudades_mendoza)\n",
    "print(ciudades)"
   ]
  },
  {
   "attachments": {},
   "cell_type": "markdown",
   "metadata": {},
   "source": [
    "10) Encontrar el índice de la ciudad que en el punto 7 agregamos duplicada. ¿Se nota alguna particularidad?"
   ]
  },
  {
   "cell_type": "code",
   "execution_count": 22,
   "metadata": {},
   "outputs": [
    {
     "name": "stdout",
     "output_type": "stream",
     "text": [
      "5\n"
     ]
    }
   ],
   "source": [
    "pos =ciudades.index('Londres')\n",
    "print(pos)"
   ]
  },
  {
   "attachments": {},
   "cell_type": "markdown",
   "metadata": {},
   "source": [
    "Index nos trae el primer valor de la posicion segun la busqueda"
   ]
  },
  {
   "attachments": {},
   "cell_type": "markdown",
   "metadata": {},
   "source": [
    "11) ¿Qué pasa si se busca un elemento que no existe?"
   ]
  },
  {
   "cell_type": "code",
   "execution_count": 23,
   "metadata": {},
   "outputs": [
    {
     "ename": "ValueError",
     "evalue": "'Looondres' is not in list",
     "output_type": "error",
     "traceback": [
      "\u001b[1;31m---------------------------------------------------------------------------\u001b[0m",
      "\u001b[1;31mValueError\u001b[0m                                Traceback (most recent call last)",
      "Cell \u001b[1;32mIn[23], line 1\u001b[0m\n\u001b[1;32m----> 1\u001b[0m pos \u001b[39m=\u001b[39mciudades\u001b[39m.\u001b[39;49mindex(\u001b[39m'\u001b[39;49m\u001b[39mLooondres\u001b[39;49m\u001b[39m'\u001b[39;49m)\n\u001b[0;32m      2\u001b[0m \u001b[39mprint\u001b[39m(pos)\n",
      "\u001b[1;31mValueError\u001b[0m: 'Looondres' is not in list"
     ]
    }
   ],
   "source": [
    "pos =ciudades.index('Looondres')\n",
    "print(pos)"
   ]
  },
  {
   "attachments": {},
   "cell_type": "markdown",
   "metadata": {},
   "source": [
    "Nos arroja un error de ejecucion"
   ]
  },
  {
   "attachments": {},
   "cell_type": "markdown",
   "metadata": {},
   "source": [
    "12) Eliminar un elemento de la lista"
   ]
  },
  {
   "cell_type": "code",
   "execution_count": 24,
   "metadata": {},
   "outputs": [
    {
     "name": "stdout",
     "output_type": "stream",
     "text": [
      "['Paris', 'New York', 'San Pablo', 'Mendoza', 'Madrid', 'Londres', 'Luxemburgo', 'Santiago', 'Rosario', 'Rosario', 'Londres', 'San Rafael', 'San Carlos', 'Lavalle']\n",
      "['Paris', 'New York', 'San Pablo', 'Mendoza', 'Madrid', 'Londres', 'Luxemburgo', 'Santiago', 'Rosario', 'Londres', 'San Rafael', 'San Carlos', 'Lavalle']\n"
     ]
    }
   ],
   "source": [
    "print(ciudades)\n",
    "ciudades.remove('Rosario')\n",
    "print(ciudades)"
   ]
  },
  {
   "attachments": {},
   "cell_type": "markdown",
   "metadata": {},
   "source": [
    "13) ¿Qué pasa si el elemento a eliminar no existe?"
   ]
  },
  {
   "cell_type": "code",
   "execution_count": 25,
   "metadata": {},
   "outputs": [
    {
     "name": "stdout",
     "output_type": "stream",
     "text": [
      "['Paris', 'New York', 'San Pablo', 'Mendoza', 'Madrid', 'Londres', 'Luxemburgo', 'Santiago', 'Rosario', 'Londres', 'San Rafael', 'San Carlos', 'Lavalle']\n"
     ]
    },
    {
     "ename": "ValueError",
     "evalue": "list.remove(x): x not in list",
     "output_type": "error",
     "traceback": [
      "\u001b[1;31m---------------------------------------------------------------------------\u001b[0m",
      "\u001b[1;31mValueError\u001b[0m                                Traceback (most recent call last)",
      "Cell \u001b[1;32mIn[25], line 2\u001b[0m\n\u001b[0;32m      1\u001b[0m \u001b[39mprint\u001b[39m(ciudades)\n\u001b[1;32m----> 2\u001b[0m ciudades\u001b[39m.\u001b[39;49mremove(\u001b[39m'\u001b[39;49m\u001b[39mRooosario\u001b[39;49m\u001b[39m'\u001b[39;49m)\n\u001b[0;32m      3\u001b[0m \u001b[39mprint\u001b[39m(ciudades)\n",
      "\u001b[1;31mValueError\u001b[0m: list.remove(x): x not in list"
     ]
    }
   ],
   "source": [
    "print(ciudades)\n",
    "ciudades.remove('Rooosario')\n",
    "print(ciudades)"
   ]
  },
  {
   "attachments": {},
   "cell_type": "markdown",
   "metadata": {},
   "source": [
    "Si al intentar eleminar un objeto que no existe, nos genera un error de ejecucion"
   ]
  },
  {
   "attachments": {},
   "cell_type": "markdown",
   "metadata": {},
   "source": [
    "14) Extraer el úlimo elemento de la lista, guardarlo en una variable e imprimirlo"
   ]
  },
  {
   "cell_type": "code",
   "execution_count": 26,
   "metadata": {},
   "outputs": [
    {
     "name": "stdout",
     "output_type": "stream",
     "text": [
      "['Paris', 'New York', 'San Pablo', 'Mendoza', 'Madrid', 'Londres', 'Luxemburgo', 'Santiago', 'Rosario', 'Londres', 'San Rafael', 'San Carlos', 'Lavalle']\n",
      "['Paris', 'New York', 'San Pablo', 'Mendoza', 'Madrid', 'Londres', 'Luxemburgo', 'Santiago', 'Rosario', 'Londres', 'San Rafael', 'San Carlos']\n",
      "Lavalle\n"
     ]
    }
   ],
   "source": [
    "print(ciudades)\n",
    "valor_retirado = ciudades.pop()\n",
    "print(ciudades)\n",
    "print(valor_retirado)"
   ]
  },
  {
   "attachments": {},
   "cell_type": "markdown",
   "metadata": {},
   "source": [
    "15) Mostrar la lista multiplicada por 4"
   ]
  },
  {
   "cell_type": "code",
   "execution_count": 27,
   "metadata": {},
   "outputs": [
    {
     "name": "stdout",
     "output_type": "stream",
     "text": [
      "['Paris', 'New York', 'San Pablo', 'Mendoza', 'Madrid', 'Londres', 'Luxemburgo', 'Santiago', 'Rosario', 'Londres', 'San Rafael', 'San Carlos', 'Paris', 'New York', 'San Pablo', 'Mendoza', 'Madrid', 'Londres', 'Luxemburgo', 'Santiago', 'Rosario', 'Londres', 'San Rafael', 'San Carlos', 'Paris', 'New York', 'San Pablo', 'Mendoza', 'Madrid', 'Londres', 'Luxemburgo', 'Santiago', 'Rosario', 'Londres', 'San Rafael', 'San Carlos', 'Paris', 'New York', 'San Pablo', 'Mendoza', 'Madrid', 'Londres', 'Luxemburgo', 'Santiago', 'Rosario', 'Londres', 'San Rafael', 'San Carlos']\n"
     ]
    }
   ],
   "source": [
    "print(ciudades * 4)"
   ]
  },
  {
   "attachments": {},
   "cell_type": "markdown",
   "metadata": {},
   "source": [
    "16) Crear una tupla que contenga los números enteros del 1 al 20"
   ]
  },
  {
   "cell_type": "code",
   "execution_count": 13,
   "metadata": {},
   "outputs": [
    {
     "name": "stdout",
     "output_type": "stream",
     "text": [
      "(1, 2, 3, 4, 5, 6, 7, 8, 9, 10, 11, 12, 13, 14, 15, 16, 17, 18, 19, 20)\n",
      "<class 'tuple'>\n"
     ]
    }
   ],
   "source": [
    "tupla1 = (1, 2,3,4,5,6,7,8,9,10,11,12,13,14,15,16,17,18,19,20)\n",
    "print(tupla1)\n",
    "print(type(tupla1))"
   ]
  },
  {
   "attachments": {},
   "cell_type": "markdown",
   "metadata": {},
   "source": [
    "17) Imprimir desde el índice 10 al 15 de la tupla"
   ]
  },
  {
   "cell_type": "code",
   "execution_count": 14,
   "metadata": {},
   "outputs": [
    {
     "name": "stdout",
     "output_type": "stream",
     "text": [
      "(11, 12, 13, 14, 15)\n"
     ]
    }
   ],
   "source": [
    "print(tupla1[10:15])\n"
   ]
  },
  {
   "attachments": {},
   "cell_type": "markdown",
   "metadata": {},
   "source": [
    "18) Evaluar si los números 20 y 30 están dentro de la tupla"
   ]
  },
  {
   "cell_type": "code",
   "execution_count": 16,
   "metadata": {},
   "outputs": [
    {
     "name": "stdout",
     "output_type": "stream",
     "text": [
      "el 20 esta presente en la tupla\n",
      "False\n"
     ]
    }
   ],
   "source": [
    "if 20 in  tupla1:\n",
    "    print('el 20 esta presente en la tupla')\n",
    "print(30 in tupla1)     #\n"
   ]
  },
  {
   "attachments": {},
   "cell_type": "markdown",
   "metadata": {},
   "source": [
    "19) Con la lista creada en el punto 1, validar la existencia del elemento 'París' y si no existe, agregarlo. Utilizar una variable e informar lo sucedido."
   ]
  },
  {
   "cell_type": "code",
   "execution_count": 19,
   "metadata": {},
   "outputs": [
    {
     "name": "stdout",
     "output_type": "stream",
     "text": [
      "['Paris', 'New York', 'San Pablo', 'Madrid', 'Londres', 'Luxemburgo', 'Santiago']\n"
     ]
    }
   ],
   "source": [
    "print(ciudades)"
   ]
  },
  {
   "cell_type": "code",
   "execution_count": 26,
   "metadata": {},
   "outputs": [
    {
     "name": "stdout",
     "output_type": "stream",
     "text": [
      "se agrego San Luis a la Lista\n",
      "['Paris', 'New York', 'San Pablo', 'Madrid', 'Londres', 'Luxemburgo', 'Santiago', 'Paris', 'Parisi', 'San Luis']\n"
     ]
    }
   ],
   "source": [
    "existencia = 'San Luis' in ciudades\n",
    "if existencia:\n",
    "    print('San Luis esta presente en la ', type(ciudades))\n",
    "else:\n",
    "    ciudades.append('San Luis')\n",
    "    print('se agrego San Luis a la Lista')\n",
    "    print(ciudades)\n"
   ]
  },
  {
   "attachments": {},
   "cell_type": "markdown",
   "metadata": {},
   "source": [
    "20) Mostrar la cantidad de veces que se encuentra un elemento específico dentro de la tupla y de la lista"
   ]
  },
  {
   "cell_type": "code",
   "execution_count": 31,
   "metadata": {},
   "outputs": [
    {
     "name": "stdout",
     "output_type": "stream",
     "text": [
      "2\n",
      "1\n"
     ]
    }
   ],
   "source": [
    "print(ciudades.count('Paris'))      # conteo de repeticion de 'Paris' dentro de ciudades\n",
    "print(tupla1.count(2))              # conteo de repeticion del valor '2' dentro de la yupla1"
   ]
  },
  {
   "attachments": {},
   "cell_type": "markdown",
   "metadata": {},
   "source": [
    "21) Convertir la tupla en una lista"
   ]
  },
  {
   "cell_type": "code",
   "execution_count": 35,
   "metadata": {},
   "outputs": [],
   "source": [
    "type(tupla1)\n",
    "tupla1 = list(tupla1)"
   ]
  },
  {
   "attachments": {},
   "cell_type": "markdown",
   "metadata": {},
   "source": [
    "22) Desempaquetar solo los primeros 3 elementos de la tupla en 3 variables"
   ]
  },
  {
   "cell_type": "code",
   "execution_count": 39,
   "metadata": {},
   "outputs": [
    {
     "name": "stdout",
     "output_type": "stream",
     "text": [
      "<class 'list'>\n",
      "20\n",
      "1 2 3\n"
     ]
    }
   ],
   "source": [
    "\n",
    "print(type(tupla1))\n",
    "print(len(tupla1))\n",
    "tup1, tup2, tup3,_,_,_,_,_,_,_,_,_,_,_,_,_,_,_,_,_ = tupla1\n",
    "print( tup1, tup2, tup3)\n"
   ]
  },
  {
   "attachments": {},
   "cell_type": "markdown",
   "metadata": {},
   "source": [
    "23) Crear un diccionario utilizando la lista crada en el punto 1, asignandole la clave \"ciudad\". Agregar tambien otras claves, como puede ser \"Pais\" y \"Continente\"."
   ]
  },
  {
   "cell_type": "code",
   "execution_count": 7,
   "metadata": {},
   "outputs": [
    {
     "name": "stdout",
     "output_type": "stream",
     "text": [
      "['Paris', 'New York', 'San Pablo', 'Madrid', 'Londres', 'Luxemburgo', 'Santiago']\n"
     ]
    },
    {
     "data": {
      "text/plain": [
       "7"
      ]
     },
     "execution_count": 7,
     "metadata": {},
     "output_type": "execute_result"
    }
   ],
   "source": [
    "print(ciudades)\n",
    "len(ciudades)\n"
   ]
  },
  {
   "cell_type": "code",
   "execution_count": 8,
   "metadata": {},
   "outputs": [],
   "source": [
    "Paises = ['Francia', 'Estados Unidos', 'Brasil', 'España', 'Inglaterra', 'Luxemburgo', 'Chile']\n",
    "Continente = ['Europa', 'America del Norte', 'America del Sur', 'Europa', 'Europa','Europa', 'America del Sur']\n"
   ]
  },
  {
   "cell_type": "code",
   "execution_count": 9,
   "metadata": {},
   "outputs": [],
   "source": [
    "diccio_paises ={\n",
    "    \"ciudades\" : ciudades,\n",
    "    \"Paises\" : Paises,\n",
    "    \"Continente\" : Continente\n",
    "}"
   ]
  },
  {
   "cell_type": "code",
   "execution_count": 10,
   "metadata": {},
   "outputs": [
    {
     "name": "stdout",
     "output_type": "stream",
     "text": [
      "{'ciudades': ['Paris', 'New York', 'San Pablo', 'Madrid', 'Londres', 'Luxemburgo', 'Santiago'], 'Paises': ['Francia', 'Estados Unidos', 'Brasil', 'España', 'Inglaterra', 'Luxemburgo', 'Chile'], 'Continente': ['Europa', 'America del Norte', 'America del Sur', 'Europa', 'Europa', 'Europa', 'America del Sur']}\n"
     ]
    }
   ],
   "source": [
    "print(diccio_paises)"
   ]
  },
  {
   "attachments": {},
   "cell_type": "markdown",
   "metadata": {},
   "source": [
    "24) Imprimir las claves del diccionario"
   ]
  },
  {
   "cell_type": "code",
   "execution_count": 12,
   "metadata": {},
   "outputs": [
    {
     "name": "stdout",
     "output_type": "stream",
     "text": [
      "dict_keys(['ciudades', 'Paises', 'Continente'])\n"
     ]
    }
   ],
   "source": [
    "print(diccio_paises.keys())"
   ]
  },
  {
   "attachments": {},
   "cell_type": "markdown",
   "metadata": {},
   "source": [
    "25) Imprimir las ciudades a través de su clave"
   ]
  },
  {
   "cell_type": "code",
   "execution_count": 16,
   "metadata": {},
   "outputs": [
    {
     "name": "stdout",
     "output_type": "stream",
     "text": [
      "ciudades ['Paris', 'New York', 'San Pablo', 'Madrid', 'Londres', 'Luxemburgo', 'Santiago']\n",
      "Paises ['Francia', 'Estados Unidos', 'Brasil', 'España', 'Inglaterra', 'Luxemburgo', 'Chile']\n",
      "Continente ['Europa', 'America del Norte', 'America del Sur', 'Europa', 'Europa', 'Europa', 'America del Sur']\n"
     ]
    }
   ],
   "source": [
    "for key, val in diccio_paises.items():\n",
    "    print(key, val)\n"
   ]
  },
  {
   "cell_type": "code",
   "execution_count": 14,
   "metadata": {},
   "outputs": [
    {
     "name": "stdout",
     "output_type": "stream",
     "text": [
      "ciudades\n",
      "['Paris', 'New York', 'San Pablo', 'Madrid', 'Londres', 'Luxemburgo', 'Santiago']\n",
      "Paises\n",
      "['Francia', 'Estados Unidos', 'Brasil', 'España', 'Inglaterra', 'Luxemburgo', 'Chile']\n",
      "Continente\n",
      "['Europa', 'America del Norte', 'America del Sur', 'Europa', 'Europa', 'Europa', 'America del Sur']\n"
     ]
    }
   ],
   "source": [
    "for i in diccio_paises:\n",
    "    print(i)\n",
    "    \n",
    "    print(diccio_paises[i])"
   ]
  }
 ],
 "metadata": {
  "interpreter": {
   "hash": "c85384e4cb51c8b72350f3a8712cc8351fdc3955e32a27f9b60c6242ab125f01"
  },
  "kernelspec": {
   "display_name": "Python 3 (ipykernel)",
   "language": "python",
   "name": "python3"
  },
  "language_info": {
   "codemirror_mode": {
    "name": "ipython",
    "version": 3
   },
   "file_extension": ".py",
   "mimetype": "text/x-python",
   "name": "python",
   "nbconvert_exporter": "python",
   "pygments_lexer": "ipython3",
   "version": "3.11.3"
  }
 },
 "nbformat": 4,
 "nbformat_minor": 4
}
