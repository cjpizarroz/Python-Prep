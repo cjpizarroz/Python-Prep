{
 "cells": [
  {
   "attachments": {},
   "cell_type": "markdown",
   "metadata": {},
   "source": [
    "## Funciones"
   ]
  },
  {
   "attachments": {},
   "cell_type": "markdown",
   "metadata": {},
   "source": [
    "1) Crear una función que reciba un número como parámetro y devuelva True si es primo y False si no lo es"
   ]
  },
  {
   "cell_type": "code",
   "execution_count": 107,
   "metadata": {},
   "outputs": [],
   "source": [
    "def es_primo(num):\n",
    "    primo = True  \n",
    "    for i in range(2, num): \n",
    "        if num % i == 0:  \n",
    "            primo = False  \n",
    "            break  \n",
    "    return primo  \n",
    "    "
   ]
  },
  {
   "cell_type": "code",
   "execution_count": 108,
   "metadata": {},
   "outputs": [
    {
     "name": "stdout",
     "output_type": "stream",
     "text": [
      "True\n"
     ]
    }
   ],
   "source": [
    "print(es_primo(17))"
   ]
  },
  {
   "attachments": {},
   "cell_type": "markdown",
   "metadata": {},
   "source": [
    "2) Utilizando la función del punto 1, realizar otra función que reciba de parámetro una lista de números y devuelva sólo aquellos que son primos en otra lista"
   ]
  },
  {
   "cell_type": "code",
   "execution_count": 109,
   "metadata": {},
   "outputs": [],
   "source": [
    "def es_primo1(lista):\n",
    "    list_res =[]\n",
    "    primo = True\n",
    "\n",
    "    for valor in lista: \n",
    "        if es_primo(int(valor)):  \n",
    "            list_res.append(valor)\n",
    "            \n",
    "    return list_res "
   ]
  },
  {
   "cell_type": "code",
   "execution_count": 110,
   "metadata": {},
   "outputs": [
    {
     "name": "stdout",
     "output_type": "stream",
     "text": [
      "[3, 7, 11, 23, 37, 53, 67, 73]\n"
     ]
    }
   ],
   "source": [
    "nueva_lista = [3,7,9,11,23,25,34,37,53,55,60,67,68,70,73,75,80,90,99]\n",
    "res_lis = es_primo1(nueva_lista)\n",
    "print(res_lis)"
   ]
  },
  {
   "attachments": {},
   "cell_type": "markdown",
   "metadata": {},
   "source": [
    "3) Crear una función que al recibir una lista de números, devuelva el que más se repite y cuántas veces lo hace. Si hay más de un \"más repetido\", que devuelva cualquiera"
   ]
  },
  {
   "cell_type": "code",
   "execution_count": 111,
   "metadata": {},
   "outputs": [],
   "source": [
    "#lista = [2, 5, 6, 8, 2, 5, 6, 5, 7, 9, 5]\n",
    "def repetidos_en_lista(list, str):\n",
    "    val = 0\n",
    "    cont = 0\n",
    "    for elemento in lista:\n",
    "            cant = lista.count(elemento)\n",
    "            if str == 'mayor':\n",
    "                if cant > cont:\n",
    "                    val = elemento\n",
    "                    cont = cant\n",
    "                    continue\n",
    "            if str == 'menor':\n",
    "                if cont == 0:\n",
    "                    cont = cant\n",
    "                if cant < cont:\n",
    "                    val = elemento\n",
    "                    cont = cant\n",
    "                \n",
    "    return(val, cont)"
   ]
  },
  {
   "cell_type": "code",
   "execution_count": 112,
   "metadata": {},
   "outputs": [
    {
     "name": "stdout",
     "output_type": "stream",
     "text": [
      "El valor  8 con 1 ocurrencias es el que menos se repite\n"
     ]
    }
   ],
   "source": [
    "lista = [2, 5, 6, 8, 2, 5, 6, 5, 7, 9, 5]\n",
    "cadena = 'menor'\n",
    "valor, num = repetidos_en_lista(lista, cadena)\n",
    "if cadena.lower() == 'mayor':\n",
    "    print(f'El valor  {valor} con { num} ocurrencias es el que mas se repite')\n",
    "elif cadena.lower() == 'menor':\n",
    "    print(f'El valor  {valor} con { num} ocurrencias es el que menos se repite')"
   ]
  },
  {
   "attachments": {},
   "cell_type": "markdown",
   "metadata": {},
   "source": [
    "4) A la función del punto 3, agregar un parámetro más, que permita elegir si se requiere el menor o el mayor de los mas repetidos."
   ]
  },
  {
   "attachments": {},
   "cell_type": "markdown",
   "metadata": {},
   "source": [
    "realizado en el punto anterior"
   ]
  },
  {
   "cell_type": "code",
   "execution_count": 3,
   "metadata": {},
   "outputs": [],
   "source": []
  },
  {
   "attachments": {},
   "cell_type": "markdown",
   "metadata": {},
   "source": [
    "5) Crear una función que convierta entre grados Celsius, Farenheit y Kelvin<br>\n",
    "Fórmula 1\t: (°C × 9/5) + 32 = °F<br>\n",
    "Fórmula 2\t: °C + 273.15 = °K<br>\n",
    "Debe recibir 3 parámetros: el valor, la medida de orígen y la medida de destino\n"
   ]
  },
  {
   "cell_type": "code",
   "execution_count": 113,
   "metadata": {},
   "outputs": [],
   "source": [
    "def conversion(num, cad1, cad2):\n",
    "    if cad1 =='Celsius':\n",
    "        if cad2 =='Farenheit':\n",
    "            resp = (num * 9/5) + 32\n",
    "        elif cad2 =='Kelvin':\n",
    "            resp = (num + 273.15)\n",
    "    elif cad1 =='Farenheit':\n",
    "        if cad2 =='Celsius':\n",
    "            resp = (num -32)/1.8\n",
    "        elif cad2 =='Kelvin':\n",
    "            resp = (num + 459.67)/1.8\n",
    "    else :\n",
    "        if cad2 =='Celsius':\n",
    "            resp = (num -273.15)\n",
    "        if cad2 =='Farenheit':\n",
    "            resp = (num * 1.8) - 459.67\n",
    "    return resp\n"
   ]
  },
  {
   "cell_type": "code",
   "execution_count": 114,
   "metadata": {},
   "outputs": [
    {
     "name": "stdout",
     "output_type": "stream",
     "text": [
      "Los 50° Kelvin equivalen a -369.67 Farenheit\n"
     ]
    }
   ],
   "source": [
    "val = 50\n",
    "grados_iniciales = 'Kelvin'\n",
    "grados_finales = 'Farenheit'\n",
    "grados_convertidos = conversion(val, grados_iniciales, grados_finales)\n",
    "print(f'Los {val}° {grados_iniciales} equivalen a { grados_convertidos} {grados_finales}')\n"
   ]
  },
  {
   "attachments": {},
   "cell_type": "markdown",
   "metadata": {},
   "source": [
    "6) Iterando una lista con los tres valores posibles de temperatura que recibe la función del punto 5, hacer un print para cada combinación de los mismos:"
   ]
  },
  {
   "cell_type": "code",
   "execution_count": 121,
   "metadata": {},
   "outputs": [
    {
     "name": "stdout",
     "output_type": "stream",
     "text": [
      "Celsius\n",
      "Celsius\n",
      " Grados 50 en Celsius a Celsius es igual a  323.15\n",
      "Celsius\n",
      "Farenheit\n",
      " Grados 50 en Celsius a Farenheit es igual a  323.15\n",
      "Celsius\n",
      "Kelvin\n",
      " Grados 50 en Celsius a Kelvin es igual a  323.15\n",
      "Farenheit\n",
      "Celsius\n",
      " Grados 50 en Farenheit a Celsius es igual a  283.15\n",
      "Farenheit\n",
      "Farenheit\n",
      " Grados 50 en Farenheit a Farenheit es igual a  283.15\n",
      "Farenheit\n",
      "Kelvin\n",
      " Grados 50 en Farenheit a Kelvin es igual a  283.15\n",
      "Kelvin\n",
      "Celsius\n"
     ]
    },
    {
     "ename": "UnboundLocalError",
     "evalue": "cannot access local variable 'resp' where it is not associated with a value",
     "output_type": "error",
     "traceback": [
      "\u001b[1;31m---------------------------------------------------------------------------\u001b[0m",
      "\u001b[1;31mUnboundLocalError\u001b[0m                         Traceback (most recent call last)",
      "Cell \u001b[1;32mIn[121], line 9\u001b[0m\n\u001b[0;32m      7\u001b[0m \u001b[39mprint\u001b[39m(cad1)\n\u001b[0;32m      8\u001b[0m \u001b[39mprint\u001b[39m(cad2)\n\u001b[1;32m----> 9\u001b[0m \u001b[39mprint\u001b[39m(\u001b[39mf\u001b[39m\u001b[39m'\u001b[39m\u001b[39m Grados \u001b[39m\u001b[39m{\u001b[39;00mvalor\u001b[39m}\u001b[39;00m\u001b[39m en \u001b[39m\u001b[39m{\u001b[39;00m\u001b[39m \u001b[39mcad1\u001b[39m}\u001b[39;00m\u001b[39m a \u001b[39m\u001b[39m{\u001b[39;00m\u001b[39m \u001b[39mcad2\u001b[39m}\u001b[39;00m\u001b[39m es igual a \u001b[39m\u001b[39m'\u001b[39m, conversion(valor, cad1, \u001b[39m'\u001b[39;49m\u001b[39mKelvin\u001b[39;49m\u001b[39m'\u001b[39;49m))\n",
      "Cell \u001b[1;32mIn[113], line 17\u001b[0m, in \u001b[0;36mconversion\u001b[1;34m(num, cad1, cad2)\u001b[0m\n\u001b[0;32m     15\u001b[0m     \u001b[39mif\u001b[39;00m cad2 \u001b[39m==\u001b[39m\u001b[39m'\u001b[39m\u001b[39mFarenheit\u001b[39m\u001b[39m'\u001b[39m:\n\u001b[0;32m     16\u001b[0m         resp \u001b[39m=\u001b[39m (num \u001b[39m*\u001b[39m \u001b[39m1.8\u001b[39m) \u001b[39m-\u001b[39m \u001b[39m459.67\u001b[39m\n\u001b[1;32m---> 17\u001b[0m \u001b[39mreturn\u001b[39;00m resp\n",
      "\u001b[1;31mUnboundLocalError\u001b[0m: cannot access local variable 'resp' where it is not associated with a value"
     ]
    }
   ],
   "source": [
    "metrica = ['Celsius', 'Farenheit', 'Kelvin']\n",
    "valor = 50\n",
    "for x in range(0,3):\n",
    "    cad1 = metrica[x]\n",
    "    for j in range(0,3):\n",
    "        cad2 = metrica[j]\n",
    "        print(cad1)\n",
    "        print(cad2)\n",
    "        print(f' Grados {valor} en { cad1} a { cad2} es igual a ', conversion(valor, cad1, 'Kelvin'))\n",
    "       \n",
    "       \n"
   ]
  },
  {
   "attachments": {},
   "cell_type": "markdown",
   "metadata": {},
   "source": [
    "7) Armar una función que devuelva el factorial de un número. Tener en cuenta que el usuario puede equivocarse y enviar de parámetro un número no entero o negativo"
   ]
  },
  {
   "cell_type": "code",
   "execution_count": 5,
   "metadata": {},
   "outputs": [],
   "source": [
    "def factorial(num):\n",
    "    if num >1:\n",
    "        num = num * factorial(num -1)\n",
    "    return num\n"
   ]
  },
  {
   "cell_type": "code",
   "execution_count": 6,
   "metadata": {},
   "outputs": [
    {
     "data": {
      "text/plain": [
       "120"
      ]
     },
     "execution_count": 6,
     "metadata": {},
     "output_type": "execute_result"
    }
   ],
   "source": [
    "factorial(5)"
   ]
  },
  {
   "cell_type": "code",
   "execution_count": 7,
   "metadata": {},
   "outputs": [
    {
     "name": "stdout",
     "output_type": "stream",
     "text": [
      "Help on function factorial in module __main__:\n",
      "\n",
      "factorial(num)\n",
      "\n"
     ]
    }
   ],
   "source": [
    "help(factorial)"
   ]
  },
  {
   "cell_type": "code",
   "execution_count": 8,
   "metadata": {},
   "outputs": [],
   "source": [
    "x = 10\n",
    "y = x"
   ]
  },
  {
   "cell_type": "code",
   "execution_count": 9,
   "metadata": {},
   "outputs": [
    {
     "name": "stdout",
     "output_type": "stream",
     "text": [
      "140727401178184\n",
      "140727401178184\n"
     ]
    }
   ],
   "source": [
    "print(id(x))\n",
    "print(id(y))"
   ]
  },
  {
   "cell_type": "code",
   "execution_count": 13,
   "metadata": {},
   "outputs": [
    {
     "name": "stdout",
     "output_type": "stream",
     "text": [
      "2659156160192\n",
      "2659156160192\n"
     ]
    }
   ],
   "source": [
    "d = [1,2,3]\n",
    "print(id(d))\n",
    "e = d\n",
    "print(id(e))"
   ]
  },
  {
   "cell_type": "code",
   "execution_count": 14,
   "metadata": {},
   "outputs": [
    {
     "name": "stdout",
     "output_type": "stream",
     "text": [
      "[1, 2, 3, 4]\n"
     ]
    }
   ],
   "source": [
    "e.append(4)\n",
    "print(e)"
   ]
  },
  {
   "cell_type": "code",
   "execution_count": 15,
   "metadata": {},
   "outputs": [
    {
     "name": "stdout",
     "output_type": "stream",
     "text": [
      "[1, 2, 3, 4]\n"
     ]
    }
   ],
   "source": [
    "print(d)"
   ]
  },
  {
   "cell_type": "code",
   "execution_count": 16,
   "metadata": {},
   "outputs": [
    {
     "name": "stdout",
     "output_type": "stream",
     "text": [
      "2659156160192\n",
      "[1, 2, 3, 4]\n",
      "2659156160192\n",
      "[1, 2, 3, 4]\n",
      "2659156151808\n",
      "[1, 2, 3, 4, 5]\n"
     ]
    }
   ],
   "source": [
    "f=d.copy()\n",
    "f.append(5)\n",
    "print(id(d))\n",
    "print(d)\n",
    "print(id(e))\n",
    "print(e)\n",
    "print(id(f))\n",
    "print(f)"
   ]
  },
  {
   "attachments": {},
   "cell_type": "markdown",
   "metadata": {},
   "source": [
    "Funciones Lambda\n",
    "son funciones expresada en una sola linea, donde el nombre antes del = es el llamado a la funcion, \n",
    "la palabra lambda indica que devolvera un resultado\n",
    "los valores despues de la palabra lamda son los parametros separados por ,(coma)\n",
    "Seguido se debe colocar los :(dos puntos )\n",
    "y finalmente, la expresion a realizar con los parametros el cual devolvera un resultado al llamado de la funcion"
   ]
  },
  {
   "cell_type": "code",
   "execution_count": 17,
   "metadata": {},
   "outputs": [],
   "source": [
    "multiplicar_num = lambda m, n: m*n \n"
   ]
  },
  {
   "cell_type": "code",
   "execution_count": 18,
   "metadata": {},
   "outputs": [
    {
     "data": {
      "text/plain": [
       "20"
      ]
     },
     "execution_count": 18,
     "metadata": {},
     "output_type": "execute_result"
    }
   ],
   "source": [
    "multiplicar_num(4,5)"
   ]
  },
  {
   "cell_type": "code",
   "execution_count": 19,
   "metadata": {},
   "outputs": [],
   "source": [
    "perimetro_fig = lambda a,b,c,d,e,f,h : a+b+c+d+e+f+h"
   ]
  },
  {
   "cell_type": "code",
   "execution_count": 20,
   "metadata": {},
   "outputs": [
    {
     "data": {
      "text/plain": [
       "28"
      ]
     },
     "execution_count": 20,
     "metadata": {},
     "output_type": "execute_result"
    }
   ],
   "source": [
    "perimetro_fig(1,2,3,4,5,6,7)"
   ]
  }
 ],
 "metadata": {
  "interpreter": {
   "hash": "c85384e4cb51c8b72350f3a8712cc8351fdc3955e32a27f9b60c6242ab125f01"
  },
  "kernelspec": {
   "display_name": "Python 3 (ipykernel)",
   "language": "python",
   "name": "python3"
  },
  "language_info": {
   "codemirror_mode": {
    "name": "ipython",
    "version": 3
   },
   "file_extension": ".py",
   "mimetype": "text/x-python",
   "name": "python",
   "nbconvert_exporter": "python",
   "pygments_lexer": "ipython3",
   "version": "3.11.3"
  }
 },
 "nbformat": 4,
 "nbformat_minor": 4
}
